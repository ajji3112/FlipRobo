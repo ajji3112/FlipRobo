{
 "cells": [
  {
   "cell_type": "code",
   "execution_count": 201,
   "metadata": {},
   "outputs": [],
   "source": [
    "import selenium\n",
    "import pandas as pd\n",
    "from selenium import webdriver\n",
    "import requests\n",
    "from bs4 import BeautifulSoup"
   ]
  },
  {
   "cell_type": "code",
   "execution_count": 202,
   "metadata": {},
   "outputs": [],
   "source": [
    "driver = webdriver.Chrome(r\"E://Datatrained//chromedriver.exe\")"
   ]
  },
  {
   "cell_type": "code",
   "execution_count": 203,
   "metadata": {},
   "outputs": [],
   "source": [
    "driver.get(\"https://www.amazon.in/\")"
   ]
  },
  {
   "cell_type": "code",
   "execution_count": 204,
   "metadata": {},
   "outputs": [
    {
     "name": "stdout",
     "output_type": "stream",
     "text": [
      "Enter product name to be searchedmobile\n"
     ]
    }
   ],
   "source": [
    "val = input(\"Enter product name to be searched\")"
   ]
  },
  {
   "cell_type": "code",
   "execution_count": 205,
   "metadata": {},
   "outputs": [],
   "source": [
    "search_job = driver.find_element_by_xpath(\"//input[@id='twotabsearchtextbox']\")\n",
    "search_job.send_keys(val)"
   ]
  },
  {
   "cell_type": "code",
   "execution_count": 206,
   "metadata": {},
   "outputs": [],
   "source": [
    "search_btn = driver.find_element_by_xpath(\"//div[@class='nav-search-submit nav-sprite']\")\n",
    "search_btn.click()"
   ]
  },
  {
   "cell_type": "code",
   "execution_count": 207,
   "metadata": {},
   "outputs": [
    {
     "data": {
      "text/plain": [
       "['Redmi 9A (Nature Green, 2GB Ram, 32GB Storage) | 2GHz Octa-core Helio G25 Processor',\n",
       " 'Oppo A31 (Mystery Black, 6GB RAM, 128GB Storage) with No Cost EMI/Additional Exchange Offers',\n",
       " 'Redmi 9 (Sky Blue, 4GB RAM, 64GB Storage)',\n",
       " 'Samsung Galaxy M21 (Midnight Blue, 4GB RAM, 64GB Storage)',\n",
       " 'Redmi Note 9 (Pebble Grey, 4GB RAM 64GB Storage) - 48MP Quad Camera & Full HD+ Display | Extra INR 1000 Off on Exchange']"
      ]
     },
     "execution_count": 207,
     "metadata": {},
     "output_type": "execute_result"
    }
   ],
   "source": [
    "#scraping the Product Name\n",
    "job_title = []\n",
    "\n",
    "titles=driver.find_elements_by_xpath(\"//h2[@class='a-size-mini a-spacing-none a-color-base s-line-clamp-2']\")\n",
    "for i in titles:\n",
    "    if i.text is None :\n",
    "        job_title.append(\"--\") \n",
    "    else:\n",
    "        job_title.append(i.text)\n",
    "    \n",
    "job_title[0:5]"
   ]
  },
  {
   "cell_type": "code",
   "execution_count": 208,
   "metadata": {},
   "outputs": [
    {
     "data": {
      "text/plain": [
       "['', '', '', '', '']"
      ]
     },
     "execution_count": 208,
     "metadata": {},
     "output_type": "execute_result"
    }
   ],
   "source": [
    "#scraping the Rating\n",
    "Ratings = []\n",
    "\n",
    "Rating=driver.find_elements_by_xpath(\"//a[@class='a-popover-trigger a-declarative']\")\n",
    "for i in Rating:\n",
    "    if i.text is None :\n",
    "        Ratings.append(\"--\") \n",
    "    else:\n",
    "        Ratings.append(i.text)\n",
    "    \n",
    "Ratings[0:5]\n",
    "\n",
    "\n",
    "#<i class=\"a-icon a-icon-star-small a-star-small-4-5 aok-align-bottom\"><span class=\"a-icon-alt\">4.3 out of 5 stars</span></i>\n",
    "\n",
    "#<a href=\"javascript:void(0)\" class=\"a-popover-trigger a-declarative\"><i class=\"a-icon a-icon-star-small a-star-small-4-5 aok-align-bottom\"><span class=\"a-icon-alt\">4.3 out of 5 stars</span></i><i class=\"a-icon a-icon-popover\"></i></a>"
   ]
  },
  {
   "cell_type": "code",
   "execution_count": 209,
   "metadata": {},
   "outputs": [
    {
     "data": {
      "text/plain": [
       "['36,100', '9,497', '31,324', '123,064', '51,596']"
      ]
     },
     "execution_count": 209,
     "metadata": {},
     "output_type": "execute_result"
    }
   ],
   "source": [
    "#scraping the Rating number\n",
    "Rating_Num = []\n",
    "\n",
    "Num=driver.find_elements_by_xpath(\"//span[@class='a-size-base']\")\n",
    "for i in Num:\n",
    "    if i.text is Num :\n",
    "        Rating_Num.append(\"--\") \n",
    "    else:\n",
    "        Rating_Num.append(i.text)\n",
    "    \n",
    "Rating_Num[0:5]\n"
   ]
  },
  {
   "cell_type": "code",
   "execution_count": 210,
   "metadata": {},
   "outputs": [
    {
     "data": {
      "text/plain": [
       "['6,799', '11,990', '8,799', '12,499', '10,999']"
      ]
     },
     "execution_count": 210,
     "metadata": {},
     "output_type": "execute_result"
    }
   ],
   "source": [
    "#scraping the Price\n",
    "Mob_Price = []\n",
    "\n",
    "Price=driver.find_elements_by_xpath(\"//span[@class='a-price-whole']\")\n",
    "for i in Price:\n",
    "    if i.text is None :\n",
    "        Mob_Price.append(\"--\") \n",
    "    else:\n",
    "        Mob_Price.append(i.text)\n",
    "    \n",
    "Mob_Price[0:5]\n"
   ]
  },
  {
   "cell_type": "code",
   "execution_count": 211,
   "metadata": {},
   "outputs": [
    {
     "data": {
      "text/plain": [
       "['Currently not deliverable',\n",
       " 'Currently not deliverable',\n",
       " 'Currently not deliverable',\n",
       " 'Currently not deliverable',\n",
       " 'Currently not deliverable']"
      ]
     },
     "execution_count": 211,
     "metadata": {},
     "output_type": "execute_result"
    }
   ],
   "source": [
    "#scraping the Delivery status\n",
    "Mob_Deliv = []\n",
    "\n",
    "Deliv=driver.find_elements_by_xpath(\"//span[@class='a-color-price']\")\n",
    "for i in Deliv:\n",
    "    if i.text is Deliv :\n",
    "        Mob_Deliv.append(\"--\") \n",
    "    else:\n",
    "        Mob_Deliv.append(i.text)\n",
    "    \n",
    "Mob_Deliv[0:5]\n",
    "\n",
    "#<div class=\"a-row a-size-base a-color-secondary\"><span class=\"a-color-price\" dir=\"auto\">Currently not deliverable</span></div>"
   ]
  },
  {
   "cell_type": "code",
   "execution_count": 212,
   "metadata": {},
   "outputs": [],
   "source": [
    "#Click Next Page button\n",
    "next_btn = driver.find_element_by_xpath(\"//li[@class='a-last']\")\n",
    "next_btn.click()"
   ]
  },
  {
   "cell_type": "code",
   "execution_count": 213,
   "metadata": {},
   "outputs": [],
   "source": [
    "# Opening images.google.com\n",
    "driver.get('https://images.google.com/')"
   ]
  },
  {
   "cell_type": "code",
   "execution_count": 214,
   "metadata": {},
   "outputs": [],
   "source": [
    "search_bar = driver.find_element_by_xpath('//*[@id=\"sbtc\"]/div/div[2]/input')    # Finding the search bar using it's xpath\n",
    "search_bar.send_keys(\"fruits\")       # Inputing \"banana\" keyword to search rock images\n",
    "search_button = driver.find_element_by_xpath('//*[@id=\"sbtc\"]/button')    # Finding the xpath of search button\n",
    "search_button.click()        # Clicking the search button"
   ]
  },
  {
   "cell_type": "code",
   "execution_count": 215,
   "metadata": {},
   "outputs": [
    {
     "name": "stdout",
     "output_type": "stream",
     "text": [
      "start scrolling to generate more images on the page...\n"
     ]
    }
   ],
   "source": [
    "print(\"start scrolling to generate more images on the page...\")\n",
    "# 500 time we scroll down by 10000 in order to generate more images on the website\n",
    "for _ in range(500):\n",
    "    driver.execute_script(\"window.scrollBy(0,10000)\")"
   ]
  },
  {
   "cell_type": "code",
   "execution_count": 216,
   "metadata": {},
   "outputs": [
    {
     "name": "stdout",
     "output_type": "stream",
     "text": [
      "[<selenium.webdriver.remote.webelement.WebElement (session=\"63144ef35bd5012be7eed74539e1d1d9\", element=\"028eb761-795e-4bb3-bdac-87100c870704\")>, <selenium.webdriver.remote.webelement.WebElement (session=\"63144ef35bd5012be7eed74539e1d1d9\", element=\"7e3dd295-368c-48dc-aca8-18347dc39fdd\")>, <selenium.webdriver.remote.webelement.WebElement (session=\"63144ef35bd5012be7eed74539e1d1d9\", element=\"66657212-3341-4c5f-9fdd-ea212cfee05e\")>, <selenium.webdriver.remote.webelement.WebElement (session=\"63144ef35bd5012be7eed74539e1d1d9\", element=\"3d20fa9b-2951-4658-9c4e-a8bc77231994\")>, <selenium.webdriver.remote.webelement.WebElement (session=\"63144ef35bd5012be7eed74539e1d1d9\", element=\"ee90f704-b9e2-4274-b5e8-ed9c9f589fab\")>, <selenium.webdriver.remote.webelement.WebElement (session=\"63144ef35bd5012be7eed74539e1d1d9\", element=\"824f1760-057c-48db-9a86-f51187eaad46\")>, <selenium.webdriver.remote.webelement.WebElement (session=\"63144ef35bd5012be7eed74539e1d1d9\", element=\"f17d3f77-f575-4dc4-aa9f-9774f218ec39\")>, <selenium.webdriver.remote.webelement.WebElement (session=\"63144ef35bd5012be7eed74539e1d1d9\", element=\"5a7692be-535f-481a-8909-816c7a5eb124\")>, <selenium.webdriver.remote.webelement.WebElement (session=\"63144ef35bd5012be7eed74539e1d1d9\", element=\"7fa7e4a1-47b4-4b92-ae3a-8a18629320d5\")>, <selenium.webdriver.remote.webelement.WebElement (session=\"63144ef35bd5012be7eed74539e1d1d9\", element=\"6d059c18-1e37-410f-9f8d-aaffce491d99\")>, <selenium.webdriver.remote.webelement.WebElement (session=\"63144ef35bd5012be7eed74539e1d1d9\", element=\"fded8dff-2a6d-40f8-9a2c-62018a7141af\")>, <selenium.webdriver.remote.webelement.WebElement (session=\"63144ef35bd5012be7eed74539e1d1d9\", element=\"5b3f7cd4-bb43-4288-98a9-84bf17486038\")>, <selenium.webdriver.remote.webelement.WebElement (session=\"63144ef35bd5012be7eed74539e1d1d9\", element=\"2110ebbd-2a16-41aa-ac69-44e9ff156c2b\")>, <selenium.webdriver.remote.webelement.WebElement (session=\"63144ef35bd5012be7eed74539e1d1d9\", element=\"f04b7678-f7bb-4163-b486-106ff487d0bc\")>, <selenium.webdriver.remote.webelement.WebElement (session=\"63144ef35bd5012be7eed74539e1d1d9\", element=\"53e50030-ec56-4754-aaa9-39cc845142c2\")>, <selenium.webdriver.remote.webelement.WebElement (session=\"63144ef35bd5012be7eed74539e1d1d9\", element=\"d3168a50-9ddf-4ad5-8dbe-e031513545b1\")>, <selenium.webdriver.remote.webelement.WebElement (session=\"63144ef35bd5012be7eed74539e1d1d9\", element=\"1f86bd13-c072-4fe9-99b2-15f4316a958a\")>, <selenium.webdriver.remote.webelement.WebElement (session=\"63144ef35bd5012be7eed74539e1d1d9\", element=\"8beac3c5-f1ef-4522-84aa-9471892b481d\")>, <selenium.webdriver.remote.webelement.WebElement (session=\"63144ef35bd5012be7eed74539e1d1d9\", element=\"bc9ccb7e-05b0-4c51-8639-4a58be1ddf2d\")>, <selenium.webdriver.remote.webelement.WebElement (session=\"63144ef35bd5012be7eed74539e1d1d9\", element=\"5fb5eb05-6275-40f1-b92b-ed6a9d1faece\")>, <selenium.webdriver.remote.webelement.WebElement (session=\"63144ef35bd5012be7eed74539e1d1d9\", element=\"a55f535e-0af0-41b1-9aee-ddb9c589ee42\")>, <selenium.webdriver.remote.webelement.WebElement (session=\"63144ef35bd5012be7eed74539e1d1d9\", element=\"09d23695-b2cd-4d09-85b6-4af79e222714\")>, <selenium.webdriver.remote.webelement.WebElement (session=\"63144ef35bd5012be7eed74539e1d1d9\", element=\"aa733671-7048-4e0a-be57-de2cccd4f9a6\")>, <selenium.webdriver.remote.webelement.WebElement (session=\"63144ef35bd5012be7eed74539e1d1d9\", element=\"1df8c8ed-9a98-4ac9-aa3f-19306c7e008f\")>, <selenium.webdriver.remote.webelement.WebElement (session=\"63144ef35bd5012be7eed74539e1d1d9\", element=\"186736c4-1065-450b-aa6a-268d7215f206\")>, <selenium.webdriver.remote.webelement.WebElement (session=\"63144ef35bd5012be7eed74539e1d1d9\", element=\"ec0294a4-88f7-4634-8fad-623cad145486\")>, <selenium.webdriver.remote.webelement.WebElement (session=\"63144ef35bd5012be7eed74539e1d1d9\", element=\"8cc8ecd9-052d-45a0-84de-5b9438c5f512\")>, <selenium.webdriver.remote.webelement.WebElement (session=\"63144ef35bd5012be7eed74539e1d1d9\", element=\"9031c133-6cf0-43f9-a0bf-921ef8c0fe71\")>, <selenium.webdriver.remote.webelement.WebElement (session=\"63144ef35bd5012be7eed74539e1d1d9\", element=\"c1e02cb7-c4ea-4a17-95ae-b49a35d1889c\")>, <selenium.webdriver.remote.webelement.WebElement (session=\"63144ef35bd5012be7eed74539e1d1d9\", element=\"cc1fb9bf-5983-4531-991d-c873f7d88261\")>, <selenium.webdriver.remote.webelement.WebElement (session=\"63144ef35bd5012be7eed74539e1d1d9\", element=\"b7f3f7a6-d312-4990-9611-ab15f35f2f55\")>, <selenium.webdriver.remote.webelement.WebElement (session=\"63144ef35bd5012be7eed74539e1d1d9\", element=\"db0a86a3-2b67-4add-9693-13be79b18ff3\")>, <selenium.webdriver.remote.webelement.WebElement (session=\"63144ef35bd5012be7eed74539e1d1d9\", element=\"620a089a-2bbf-495e-a53f-6a9b3a95df2b\")>, <selenium.webdriver.remote.webelement.WebElement (session=\"63144ef35bd5012be7eed74539e1d1d9\", element=\"df90deb9-525e-48f1-8839-eb0309658e98\")>, <selenium.webdriver.remote.webelement.WebElement (session=\"63144ef35bd5012be7eed74539e1d1d9\", element=\"d43c625e-7115-4bf4-a775-2b1fdb6644f1\")>, <selenium.webdriver.remote.webelement.WebElement (session=\"63144ef35bd5012be7eed74539e1d1d9\", element=\"984ac134-53ba-4303-9f8b-9c427f53ceee\")>, <selenium.webdriver.remote.webelement.WebElement (session=\"63144ef35bd5012be7eed74539e1d1d9\", element=\"3fcdd0e9-2afa-4fdc-a72e-7ee30abbed50\")>, <selenium.webdriver.remote.webelement.WebElement (session=\"63144ef35bd5012be7eed74539e1d1d9\", element=\"2cb9d02f-820a-4161-8e07-2e146fe79fd4\")>, <selenium.webdriver.remote.webelement.WebElement (session=\"63144ef35bd5012be7eed74539e1d1d9\", element=\"3791c102-bdaf-4f0e-8109-bcab553076c6\")>, <selenium.webdriver.remote.webelement.WebElement (session=\"63144ef35bd5012be7eed74539e1d1d9\", element=\"b925bcee-73dc-4809-a5f4-f9fec4c1ff63\")>, <selenium.webdriver.remote.webelement.WebElement (session=\"63144ef35bd5012be7eed74539e1d1d9\", element=\"d11a728a-5369-4b83-895e-a91b9f60f46e\")>, <selenium.webdriver.remote.webelement.WebElement (session=\"63144ef35bd5012be7eed74539e1d1d9\", element=\"15c3677d-34e1-4eed-be8a-861f40122606\")>, <selenium.webdriver.remote.webelement.WebElement (session=\"63144ef35bd5012be7eed74539e1d1d9\", element=\"00a67280-e054-41f9-a707-99c9ddd99e1c\")>, <selenium.webdriver.remote.webelement.WebElement (session=\"63144ef35bd5012be7eed74539e1d1d9\", element=\"7c2e8492-5ef8-4350-aa5c-675fac92fd28\")>, <selenium.webdriver.remote.webelement.WebElement (session=\"63144ef35bd5012be7eed74539e1d1d9\", element=\"ae1a7f70-5c47-4f3b-819a-c80ca755f1f1\")>, <selenium.webdriver.remote.webelement.WebElement (session=\"63144ef35bd5012be7eed74539e1d1d9\", element=\"721d8b3f-378b-4e97-8b81-bacad0773860\")>, <selenium.webdriver.remote.webelement.WebElement (session=\"63144ef35bd5012be7eed74539e1d1d9\", element=\"d3512006-baa1-4b25-9eb4-02505086f25a\")>, <selenium.webdriver.remote.webelement.WebElement (session=\"63144ef35bd5012be7eed74539e1d1d9\", element=\"4498bbc1-b43b-4d61-bb0a-0e6703e80fe8\")>, <selenium.webdriver.remote.webelement.WebElement (session=\"63144ef35bd5012be7eed74539e1d1d9\", element=\"248c967c-f77f-4d1f-a43a-a83fea97ba0e\")>, <selenium.webdriver.remote.webelement.WebElement (session=\"63144ef35bd5012be7eed74539e1d1d9\", element=\"91133d99-6d62-460e-a3fe-e0941499ce32\")>, <selenium.webdriver.remote.webelement.WebElement (session=\"63144ef35bd5012be7eed74539e1d1d9\", element=\"175eaf99-6e46-4e17-a9c9-86f003f7b774\")>, <selenium.webdriver.remote.webelement.WebElement (session=\"63144ef35bd5012be7eed74539e1d1d9\", element=\"9444eafe-236e-49e2-bbd5-fcbfb73d61e7\")>, <selenium.webdriver.remote.webelement.WebElement (session=\"63144ef35bd5012be7eed74539e1d1d9\", element=\"b724342f-f4ef-4b06-b4a9-5c49139cf420\")>, <selenium.webdriver.remote.webelement.WebElement (session=\"63144ef35bd5012be7eed74539e1d1d9\", element=\"e4ffbcc3-bce9-4958-966b-1889340dea40\")>, <selenium.webdriver.remote.webelement.WebElement (session=\"63144ef35bd5012be7eed74539e1d1d9\", element=\"7317aa98-551d-4b74-91d6-da9efad740be\")>, <selenium.webdriver.remote.webelement.WebElement (session=\"63144ef35bd5012be7eed74539e1d1d9\", element=\"48fafcdd-dc82-4fc0-b222-6afaaff6f3ac\")>, <selenium.webdriver.remote.webelement.WebElement (session=\"63144ef35bd5012be7eed74539e1d1d9\", element=\"38a65187-c03d-417c-b925-461505a32985\")>, <selenium.webdriver.remote.webelement.WebElement (session=\"63144ef35bd5012be7eed74539e1d1d9\", element=\"35b77f80-afd4-4a18-8881-5f14263a847e\")>, <selenium.webdriver.remote.webelement.WebElement (session=\"63144ef35bd5012be7eed74539e1d1d9\", element=\"1b75a25d-56d6-4694-838b-6e7b1b2cfd4c\")>, <selenium.webdriver.remote.webelement.WebElement (session=\"63144ef35bd5012be7eed74539e1d1d9\", element=\"484f871c-2dc6-48e0-8eb5-6c809cdb80ac\")>, <selenium.webdriver.remote.webelement.WebElement (session=\"63144ef35bd5012be7eed74539e1d1d9\", element=\"57bc7a4a-6e16-4948-8cc9-b9808634dd86\")>, <selenium.webdriver.remote.webelement.WebElement (session=\"63144ef35bd5012be7eed74539e1d1d9\", element=\"a25e0238-ed0c-4800-851e-4cb1e7188c33\")>, <selenium.webdriver.remote.webelement.WebElement (session=\"63144ef35bd5012be7eed74539e1d1d9\", element=\"a27541c3-6a32-4467-84de-68e0135ab4de\")>, <selenium.webdriver.remote.webelement.WebElement (session=\"63144ef35bd5012be7eed74539e1d1d9\", element=\"2d2a527c-0033-4ef5-b5bb-a017abef31c9\")>, <selenium.webdriver.remote.webelement.WebElement (session=\"63144ef35bd5012be7eed74539e1d1d9\", element=\"9ea8dfd8-02bf-44ae-b7f9-6b083228f873\")>, <selenium.webdriver.remote.webelement.WebElement (session=\"63144ef35bd5012be7eed74539e1d1d9\", element=\"99d5fdab-86a0-4a08-951c-8ff5cebdb88c\")>, <selenium.webdriver.remote.webelement.WebElement (session=\"63144ef35bd5012be7eed74539e1d1d9\", element=\"b5e916bb-5af1-4090-a71e-d3176a8cbc52\")>, <selenium.webdriver.remote.webelement.WebElement (session=\"63144ef35bd5012be7eed74539e1d1d9\", element=\"3e6f34c6-674a-46f2-beb4-4522d6d5482a\")>, <selenium.webdriver.remote.webelement.WebElement (session=\"63144ef35bd5012be7eed74539e1d1d9\", element=\"6b582fd1-255a-47ff-9c6e-e27c809ca1bb\")>, <selenium.webdriver.remote.webelement.WebElement (session=\"63144ef35bd5012be7eed74539e1d1d9\", element=\"8e2807ce-bbfe-4afe-b994-0051ca1f79df\")>, <selenium.webdriver.remote.webelement.WebElement (session=\"63144ef35bd5012be7eed74539e1d1d9\", element=\"be0376ca-c003-46c1-b614-1d6dd11a6f5e\")>, <selenium.webdriver.remote.webelement.WebElement (session=\"63144ef35bd5012be7eed74539e1d1d9\", element=\"bee56c3e-56c8-4009-a0b5-7d0555073f47\")>, <selenium.webdriver.remote.webelement.WebElement (session=\"63144ef35bd5012be7eed74539e1d1d9\", element=\"bee4220b-61b4-4fdd-9108-d6f261222dd4\")>, <selenium.webdriver.remote.webelement.WebElement (session=\"63144ef35bd5012be7eed74539e1d1d9\", element=\"9dedcd10-6072-4557-8c6e-44711d2e147a\")>, <selenium.webdriver.remote.webelement.WebElement (session=\"63144ef35bd5012be7eed74539e1d1d9\", element=\"50ed886e-09df-4233-a8d6-674e7c4db3e7\")>, <selenium.webdriver.remote.webelement.WebElement (session=\"63144ef35bd5012be7eed74539e1d1d9\", element=\"836d2101-4042-4f01-a951-e1d87071cf51\")>, <selenium.webdriver.remote.webelement.WebElement (session=\"63144ef35bd5012be7eed74539e1d1d9\", element=\"63507f21-567e-4cc1-9dc1-8acc8ca4b383\")>, <selenium.webdriver.remote.webelement.WebElement (session=\"63144ef35bd5012be7eed74539e1d1d9\", element=\"a22b0f83-34a8-4fde-a104-aa32e059df2d\")>, <selenium.webdriver.remote.webelement.WebElement (session=\"63144ef35bd5012be7eed74539e1d1d9\", element=\"363809cd-fe58-449e-9a8b-c5686a8d9af6\")>, <selenium.webdriver.remote.webelement.WebElement (session=\"63144ef35bd5012be7eed74539e1d1d9\", element=\"61f7b6a6-a500-43ef-ae16-017b108af7cf\")>, <selenium.webdriver.remote.webelement.WebElement (session=\"63144ef35bd5012be7eed74539e1d1d9\", element=\"4b384782-5e99-4eec-a09b-d9205666d19c\")>, <selenium.webdriver.remote.webelement.WebElement (session=\"63144ef35bd5012be7eed74539e1d1d9\", element=\"221ce8ad-74b5-455e-9be0-bc21fcf867de\")>, <selenium.webdriver.remote.webelement.WebElement (session=\"63144ef35bd5012be7eed74539e1d1d9\", element=\"a5675ab0-81f5-4c66-9677-c535845e1bd8\")>, <selenium.webdriver.remote.webelement.WebElement (session=\"63144ef35bd5012be7eed74539e1d1d9\", element=\"13fb5c02-927d-4695-a93a-a79919106e01\")>, <selenium.webdriver.remote.webelement.WebElement (session=\"63144ef35bd5012be7eed74539e1d1d9\", element=\"f5cbd52a-81f2-4356-9702-d1d2c6137fd6\")>, <selenium.webdriver.remote.webelement.WebElement (session=\"63144ef35bd5012be7eed74539e1d1d9\", element=\"0bc7a005-6eb6-4e36-80d2-162bac1ea608\")>, <selenium.webdriver.remote.webelement.WebElement (session=\"63144ef35bd5012be7eed74539e1d1d9\", element=\"947ade5f-1a8d-42c2-8abf-86850c77587e\")>, <selenium.webdriver.remote.webelement.WebElement (session=\"63144ef35bd5012be7eed74539e1d1d9\", element=\"ca30d615-4698-4a4d-a446-c4e68368c296\")>, <selenium.webdriver.remote.webelement.WebElement (session=\"63144ef35bd5012be7eed74539e1d1d9\", element=\"ecb69874-a84f-4994-b68b-d66314bfe3fc\")>, <selenium.webdriver.remote.webelement.WebElement (session=\"63144ef35bd5012be7eed74539e1d1d9\", element=\"fa2fd686-c93e-40fd-ae1b-5f4df96bad2b\")>, <selenium.webdriver.remote.webelement.WebElement (session=\"63144ef35bd5012be7eed74539e1d1d9\", element=\"4e1512cb-74b5-486f-b541-ea997e33d8ef\")>, <selenium.webdriver.remote.webelement.WebElement (session=\"63144ef35bd5012be7eed74539e1d1d9\", element=\"ee96b6fc-743e-4b11-9676-f19761be7bc4\")>, <selenium.webdriver.remote.webelement.WebElement (session=\"63144ef35bd5012be7eed74539e1d1d9\", element=\"362b5290-f550-4a54-8217-009f9a9309a6\")>, <selenium.webdriver.remote.webelement.WebElement (session=\"63144ef35bd5012be7eed74539e1d1d9\", element=\"f2168dec-8002-40d3-aeeb-88dc5690474e\")>, <selenium.webdriver.remote.webelement.WebElement (session=\"63144ef35bd5012be7eed74539e1d1d9\", element=\"2ce38596-0158-4faa-b019-dbb19d438fc0\")>, <selenium.webdriver.remote.webelement.WebElement (session=\"63144ef35bd5012be7eed74539e1d1d9\", element=\"812cfe0a-9979-4ac3-a1e2-8f82dec46054\")>, <selenium.webdriver.remote.webelement.WebElement (session=\"63144ef35bd5012be7eed74539e1d1d9\", element=\"7a3d0a6b-3e29-47ff-8238-910151a517b2\")>, <selenium.webdriver.remote.webelement.WebElement (session=\"63144ef35bd5012be7eed74539e1d1d9\", element=\"28f0da98-b782-4352-9eba-c9876256cd3b\")>, <selenium.webdriver.remote.webelement.WebElement (session=\"63144ef35bd5012be7eed74539e1d1d9\", element=\"bea9c880-3f58-4ac2-8442-fa567f3275a4\")>, <selenium.webdriver.remote.webelement.WebElement (session=\"63144ef35bd5012be7eed74539e1d1d9\", element=\"526c2328-19e5-4067-8328-830ee159d6be\")>, <selenium.webdriver.remote.webelement.WebElement (session=\"63144ef35bd5012be7eed74539e1d1d9\", element=\"df608e28-226d-4811-8901-b7c9a8debc65\")>, <selenium.webdriver.remote.webelement.WebElement (session=\"63144ef35bd5012be7eed74539e1d1d9\", element=\"4390390c-4397-4654-99fe-8142d31eae02\")>, <selenium.webdriver.remote.webelement.WebElement (session=\"63144ef35bd5012be7eed74539e1d1d9\", element=\"7d6030de-efaa-420c-802a-06ec0e80c6fd\")>, <selenium.webdriver.remote.webelement.WebElement (session=\"63144ef35bd5012be7eed74539e1d1d9\", element=\"b45fc386-a53a-4393-8a14-bee239e61cb3\")>, <selenium.webdriver.remote.webelement.WebElement (session=\"63144ef35bd5012be7eed74539e1d1d9\", element=\"95bdea72-0fc9-4f64-95a0-661ae400fe40\")>, <selenium.webdriver.remote.webelement.WebElement (session=\"63144ef35bd5012be7eed74539e1d1d9\", element=\"64e83a69-2c4d-44c5-b6e4-b0744e1195f6\")>, <selenium.webdriver.remote.webelement.WebElement (session=\"63144ef35bd5012be7eed74539e1d1d9\", element=\"419c5ce1-8bf6-4b06-b1f6-30ac4e849903\")>, <selenium.webdriver.remote.webelement.WebElement (session=\"63144ef35bd5012be7eed74539e1d1d9\", element=\"cccc9475-f4ff-44d5-862a-d483f3391780\")>, <selenium.webdriver.remote.webelement.WebElement (session=\"63144ef35bd5012be7eed74539e1d1d9\", element=\"b82d935c-15b3-405e-bc20-76795d2861b4\")>, <selenium.webdriver.remote.webelement.WebElement (session=\"63144ef35bd5012be7eed74539e1d1d9\", element=\"c84600fb-e56b-4a72-b988-a26337e6019c\")>, <selenium.webdriver.remote.webelement.WebElement (session=\"63144ef35bd5012be7eed74539e1d1d9\", element=\"eea614f4-bbf1-4d78-a550-ca535ab86a76\")>, <selenium.webdriver.remote.webelement.WebElement (session=\"63144ef35bd5012be7eed74539e1d1d9\", element=\"4313176b-ffc7-4253-ad0a-387bd685a336\")>, <selenium.webdriver.remote.webelement.WebElement (session=\"63144ef35bd5012be7eed74539e1d1d9\", element=\"a0054576-0f10-47e6-8a15-9a67ff955818\")>, <selenium.webdriver.remote.webelement.WebElement (session=\"63144ef35bd5012be7eed74539e1d1d9\", element=\"f1abead8-d4de-4d79-9a11-da4da6a62950\")>, <selenium.webdriver.remote.webelement.WebElement (session=\"63144ef35bd5012be7eed74539e1d1d9\", element=\"fda33a36-df40-4da7-8350-42ed803b8031\")>, <selenium.webdriver.remote.webelement.WebElement (session=\"63144ef35bd5012be7eed74539e1d1d9\", element=\"fd39fcb0-04bc-4efd-b754-ac67b4157d02\")>, <selenium.webdriver.remote.webelement.WebElement (session=\"63144ef35bd5012be7eed74539e1d1d9\", element=\"66100683-e87c-4e6d-b9cf-58bb391963e6\")>, <selenium.webdriver.remote.webelement.WebElement (session=\"63144ef35bd5012be7eed74539e1d1d9\", element=\"6284868c-9948-43e6-b5b8-99be69d31460\")>, <selenium.webdriver.remote.webelement.WebElement (session=\"63144ef35bd5012be7eed74539e1d1d9\", element=\"a50d094e-4bc8-4319-a807-ce93d391d923\")>, <selenium.webdriver.remote.webelement.WebElement (session=\"63144ef35bd5012be7eed74539e1d1d9\", element=\"aa5b0ad7-0eaa-426f-9d11-e6fd09be8227\")>, <selenium.webdriver.remote.webelement.WebElement (session=\"63144ef35bd5012be7eed74539e1d1d9\", element=\"4e256389-57d2-4c1d-9520-b74c9380b163\")>, <selenium.webdriver.remote.webelement.WebElement (session=\"63144ef35bd5012be7eed74539e1d1d9\", element=\"6220fca3-8946-4538-91fd-85cd673257b5\")>, <selenium.webdriver.remote.webelement.WebElement (session=\"63144ef35bd5012be7eed74539e1d1d9\", element=\"37a951a5-d6ed-415e-b336-6c8030bc21ce\")>, <selenium.webdriver.remote.webelement.WebElement (session=\"63144ef35bd5012be7eed74539e1d1d9\", element=\"4eb10882-fdbb-4920-9401-dcc52c63fb12\")>, <selenium.webdriver.remote.webelement.WebElement (session=\"63144ef35bd5012be7eed74539e1d1d9\", element=\"2609fa48-230f-4487-8c40-79f230dcfaa9\")>, <selenium.webdriver.remote.webelement.WebElement (session=\"63144ef35bd5012be7eed74539e1d1d9\", element=\"5f1bf7e5-0f6c-4edd-9aa6-5f385a794251\")>, <selenium.webdriver.remote.webelement.WebElement (session=\"63144ef35bd5012be7eed74539e1d1d9\", element=\"da9082aa-c459-4186-b9ed-78b9cca32cdb\")>, <selenium.webdriver.remote.webelement.WebElement (session=\"63144ef35bd5012be7eed74539e1d1d9\", element=\"839e2bf7-87db-48c6-a079-b197303f9dc3\")>, <selenium.webdriver.remote.webelement.WebElement (session=\"63144ef35bd5012be7eed74539e1d1d9\", element=\"f0af1ddc-b3f0-46a5-945b-455b8c988bb9\")>, <selenium.webdriver.remote.webelement.WebElement (session=\"63144ef35bd5012be7eed74539e1d1d9\", element=\"2c413feb-ae7b-460c-a386-796ec820dc07\")>, <selenium.webdriver.remote.webelement.WebElement (session=\"63144ef35bd5012be7eed74539e1d1d9\", element=\"6a160c2a-47e8-43df-8912-1e6a70caa986\")>, <selenium.webdriver.remote.webelement.WebElement (session=\"63144ef35bd5012be7eed74539e1d1d9\", element=\"7e3bd737-68c7-4d3b-a4d1-418ea676537c\")>, <selenium.webdriver.remote.webelement.WebElement (session=\"63144ef35bd5012be7eed74539e1d1d9\", element=\"19d7d221-e268-4156-b00c-15c3046870d0\")>, <selenium.webdriver.remote.webelement.WebElement (session=\"63144ef35bd5012be7eed74539e1d1d9\", element=\"12dd899b-2dc5-4352-b938-9962da8594d7\")>, <selenium.webdriver.remote.webelement.WebElement (session=\"63144ef35bd5012be7eed74539e1d1d9\", element=\"4b1be27a-aaf5-430d-b8c0-501c3061004e\")>, <selenium.webdriver.remote.webelement.WebElement (session=\"63144ef35bd5012be7eed74539e1d1d9\", element=\"ea0a3473-9bf8-4db1-a699-da7e6496461f\")>, <selenium.webdriver.remote.webelement.WebElement (session=\"63144ef35bd5012be7eed74539e1d1d9\", element=\"36772f1a-4431-4600-89f2-12f8edf17033\")>, <selenium.webdriver.remote.webelement.WebElement (session=\"63144ef35bd5012be7eed74539e1d1d9\", element=\"69a9be62-c478-427f-86fc-038fb354c949\")>, <selenium.webdriver.remote.webelement.WebElement (session=\"63144ef35bd5012be7eed74539e1d1d9\", element=\"46724592-24d6-4c33-b9c9-16bd0e1a14ec\")>, <selenium.webdriver.remote.webelement.WebElement (session=\"63144ef35bd5012be7eed74539e1d1d9\", element=\"bebc85cd-0333-4d22-894b-75c8fb2851ec\")>, <selenium.webdriver.remote.webelement.WebElement (session=\"63144ef35bd5012be7eed74539e1d1d9\", element=\"e33ea6ce-63ca-4387-814a-ef469e701142\")>, <selenium.webdriver.remote.webelement.WebElement (session=\"63144ef35bd5012be7eed74539e1d1d9\", element=\"721b63a0-dc5a-4ff1-b583-71a53565c4d8\")>, <selenium.webdriver.remote.webelement.WebElement (session=\"63144ef35bd5012be7eed74539e1d1d9\", element=\"512afe6c-c0f5-4c10-998e-b0931bc77889\")>, <selenium.webdriver.remote.webelement.WebElement (session=\"63144ef35bd5012be7eed74539e1d1d9\", element=\"de0d9347-b222-4f67-b476-435538ce7e2e\")>, <selenium.webdriver.remote.webelement.WebElement (session=\"63144ef35bd5012be7eed74539e1d1d9\", element=\"9d68e8b2-3051-4c69-9e04-e695e2d54687\")>, <selenium.webdriver.remote.webelement.WebElement (session=\"63144ef35bd5012be7eed74539e1d1d9\", element=\"8ecfa3c9-9bb1-4f44-9680-52699396108b\")>, <selenium.webdriver.remote.webelement.WebElement (session=\"63144ef35bd5012be7eed74539e1d1d9\", element=\"f8064c05-b9b0-4426-87b0-93962c11ae0c\")>, <selenium.webdriver.remote.webelement.WebElement (session=\"63144ef35bd5012be7eed74539e1d1d9\", element=\"a79fa686-37ec-42bd-9153-f012e1b15285\")>, <selenium.webdriver.remote.webelement.WebElement (session=\"63144ef35bd5012be7eed74539e1d1d9\", element=\"d0e3110e-c4f0-4241-947e-32c7dc57af11\")>, <selenium.webdriver.remote.webelement.WebElement (session=\"63144ef35bd5012be7eed74539e1d1d9\", element=\"19833bd0-8103-4cb0-8089-694ede7b0db1\")>, <selenium.webdriver.remote.webelement.WebElement (session=\"63144ef35bd5012be7eed74539e1d1d9\", element=\"4df00fe0-16f5-4092-bf88-e1f483922e6e\")>, <selenium.webdriver.remote.webelement.WebElement (session=\"63144ef35bd5012be7eed74539e1d1d9\", element=\"47f6e282-09bc-418d-906b-707fc612e834\")>, <selenium.webdriver.remote.webelement.WebElement (session=\"63144ef35bd5012be7eed74539e1d1d9\", element=\"6cb833dd-0870-4842-b5c0-bb6da5efe205\")>, <selenium.webdriver.remote.webelement.WebElement (session=\"63144ef35bd5012be7eed74539e1d1d9\", element=\"998761f3-5fc6-4433-950f-e34613ffe267\")>, <selenium.webdriver.remote.webelement.WebElement (session=\"63144ef35bd5012be7eed74539e1d1d9\", element=\"716a7124-56e8-4984-a453-d06e469cdf90\")>, <selenium.webdriver.remote.webelement.WebElement (session=\"63144ef35bd5012be7eed74539e1d1d9\", element=\"ce4edf44-c1d5-414e-bfd7-85920949780d\")>, <selenium.webdriver.remote.webelement.WebElement (session=\"63144ef35bd5012be7eed74539e1d1d9\", element=\"912b32d1-1265-4e64-83f2-feaf127031c9\")>, <selenium.webdriver.remote.webelement.WebElement (session=\"63144ef35bd5012be7eed74539e1d1d9\", element=\"a7d643f2-a3c8-429a-833a-3ee9ab603b16\")>, <selenium.webdriver.remote.webelement.WebElement (session=\"63144ef35bd5012be7eed74539e1d1d9\", element=\"440525eb-7bda-4542-9f2f-f5940162ef65\")>, <selenium.webdriver.remote.webelement.WebElement (session=\"63144ef35bd5012be7eed74539e1d1d9\", element=\"1dd942a7-6483-4d0e-b31b-540e1d295904\")>, <selenium.webdriver.remote.webelement.WebElement (session=\"63144ef35bd5012be7eed74539e1d1d9\", element=\"bd6c65b1-cc99-4456-952e-c7130736527b\")>, <selenium.webdriver.remote.webelement.WebElement (session=\"63144ef35bd5012be7eed74539e1d1d9\", element=\"77aaf8f3-7f05-475d-b6ae-481b6d5d4b28\")>, <selenium.webdriver.remote.webelement.WebElement (session=\"63144ef35bd5012be7eed74539e1d1d9\", element=\"8cff6f1a-b0f7-4949-a6e0-8c3cd4b29046\")>, <selenium.webdriver.remote.webelement.WebElement (session=\"63144ef35bd5012be7eed74539e1d1d9\", element=\"2f51346c-b12d-468c-970a-d1b238c4f993\")>, <selenium.webdriver.remote.webelement.WebElement (session=\"63144ef35bd5012be7eed74539e1d1d9\", element=\"20856bdb-0cb0-4c60-b10f-1aaee177b246\")>, <selenium.webdriver.remote.webelement.WebElement (session=\"63144ef35bd5012be7eed74539e1d1d9\", element=\"d48928d6-f02d-40c5-9f98-380283c0a3c8\")>, <selenium.webdriver.remote.webelement.WebElement (session=\"63144ef35bd5012be7eed74539e1d1d9\", element=\"144f43a4-4923-4f60-9a70-0a192d390c34\")>, <selenium.webdriver.remote.webelement.WebElement (session=\"63144ef35bd5012be7eed74539e1d1d9\", element=\"ecdda309-6755-4e1e-aeb5-67349b1caa81\")>, <selenium.webdriver.remote.webelement.WebElement (session=\"63144ef35bd5012be7eed74539e1d1d9\", element=\"4af61031-ebd1-4e90-a2e0-35d29345066a\")>, <selenium.webdriver.remote.webelement.WebElement (session=\"63144ef35bd5012be7eed74539e1d1d9\", element=\"0b568e44-4956-4f60-9fa7-ac201696f6fb\")>, <selenium.webdriver.remote.webelement.WebElement (session=\"63144ef35bd5012be7eed74539e1d1d9\", element=\"37dcbac6-3cec-44c5-9947-469dca2b353a\")>, <selenium.webdriver.remote.webelement.WebElement (session=\"63144ef35bd5012be7eed74539e1d1d9\", element=\"36c2dd0c-b8e7-49d2-81cb-769949dcfd64\")>, <selenium.webdriver.remote.webelement.WebElement (session=\"63144ef35bd5012be7eed74539e1d1d9\", element=\"f5b74fcc-0e6b-40e0-8062-4680efdf0944\")>, <selenium.webdriver.remote.webelement.WebElement (session=\"63144ef35bd5012be7eed74539e1d1d9\", element=\"d76566f9-6e8f-4780-b54c-832093379485\")>, <selenium.webdriver.remote.webelement.WebElement (session=\"63144ef35bd5012be7eed74539e1d1d9\", element=\"9c2f13b1-3cc0-4abd-92c9-4223766dbc69\")>, <selenium.webdriver.remote.webelement.WebElement (session=\"63144ef35bd5012be7eed74539e1d1d9\", element=\"a8f3f77a-ea84-412f-8bfc-cd435226dbf2\")>, <selenium.webdriver.remote.webelement.WebElement (session=\"63144ef35bd5012be7eed74539e1d1d9\", element=\"442a0b29-847f-4241-b050-bdb75a55fd77\")>, <selenium.webdriver.remote.webelement.WebElement (session=\"63144ef35bd5012be7eed74539e1d1d9\", element=\"182c69f9-1ee6-40ca-9dd7-db0125cd042d\")>, <selenium.webdriver.remote.webelement.WebElement (session=\"63144ef35bd5012be7eed74539e1d1d9\", element=\"9ff82f9b-924a-40e1-bb3a-6d72111aa5d9\")>, <selenium.webdriver.remote.webelement.WebElement (session=\"63144ef35bd5012be7eed74539e1d1d9\", element=\"623f28ce-8079-45b6-9710-de27a3f12c81\")>, <selenium.webdriver.remote.webelement.WebElement (session=\"63144ef35bd5012be7eed74539e1d1d9\", element=\"5d2397e8-cd6d-4535-859d-8c2684257368\")>, <selenium.webdriver.remote.webelement.WebElement (session=\"63144ef35bd5012be7eed74539e1d1d9\", element=\"95fcec58-f5d8-4135-a8d6-a77d5cd6e455\")>, <selenium.webdriver.remote.webelement.WebElement (session=\"63144ef35bd5012be7eed74539e1d1d9\", element=\"8d1e07b7-834b-4228-b9d2-6ea0c99de217\")>, <selenium.webdriver.remote.webelement.WebElement (session=\"63144ef35bd5012be7eed74539e1d1d9\", element=\"54eaff3e-b67a-471d-9923-20d7d963a710\")>, <selenium.webdriver.remote.webelement.WebElement (session=\"63144ef35bd5012be7eed74539e1d1d9\", element=\"49e686fb-7efd-412c-bf6b-4378846eeb99\")>, <selenium.webdriver.remote.webelement.WebElement (session=\"63144ef35bd5012be7eed74539e1d1d9\", element=\"602a8563-5174-4c3f-93cd-c4fc5d9ab47e\")>, <selenium.webdriver.remote.webelement.WebElement (session=\"63144ef35bd5012be7eed74539e1d1d9\", element=\"cbdfca7e-e59d-4213-8251-40c609952103\")>, <selenium.webdriver.remote.webelement.WebElement (session=\"63144ef35bd5012be7eed74539e1d1d9\", element=\"14ce1be7-3c6a-4e4d-8adb-241e782b3a0a\")>, <selenium.webdriver.remote.webelement.WebElement (session=\"63144ef35bd5012be7eed74539e1d1d9\", element=\"1a06e841-c3bd-45a7-8455-68d16397fcbc\")>, <selenium.webdriver.remote.webelement.WebElement (session=\"63144ef35bd5012be7eed74539e1d1d9\", element=\"5f8f5f33-d911-421d-9356-745469ce9d08\")>, <selenium.webdriver.remote.webelement.WebElement (session=\"63144ef35bd5012be7eed74539e1d1d9\", element=\"8e8ea726-be83-45fc-84a7-4b439fe3946c\")>, <selenium.webdriver.remote.webelement.WebElement (session=\"63144ef35bd5012be7eed74539e1d1d9\", element=\"36dc801b-be22-4f84-b698-9a44adfb57d1\")>, <selenium.webdriver.remote.webelement.WebElement (session=\"63144ef35bd5012be7eed74539e1d1d9\", element=\"cd9e6a12-a0dd-4fa9-b1c6-bee475ef734f\")>, <selenium.webdriver.remote.webelement.WebElement (session=\"63144ef35bd5012be7eed74539e1d1d9\", element=\"012ecf49-2c78-406f-8f0c-4995c534785b\")>, <selenium.webdriver.remote.webelement.WebElement (session=\"63144ef35bd5012be7eed74539e1d1d9\", element=\"0b838044-70c6-4870-9981-e5dc67ce1968\")>, <selenium.webdriver.remote.webelement.WebElement (session=\"63144ef35bd5012be7eed74539e1d1d9\", element=\"d4eb2d7e-ebdc-4aa6-8375-dd17a432713a\")>, <selenium.webdriver.remote.webelement.WebElement (session=\"63144ef35bd5012be7eed74539e1d1d9\", element=\"bb347b3c-cbe5-46ac-ac77-a7721ccf5dbb\")>, <selenium.webdriver.remote.webelement.WebElement (session=\"63144ef35bd5012be7eed74539e1d1d9\", element=\"41072e39-15d7-4e82-936c-cf7768c89f1e\")>, <selenium.webdriver.remote.webelement.WebElement (session=\"63144ef35bd5012be7eed74539e1d1d9\", element=\"836fab82-c730-487d-91ec-35e3dd7c6365\")>, <selenium.webdriver.remote.webelement.WebElement (session=\"63144ef35bd5012be7eed74539e1d1d9\", element=\"d2f81589-a711-4156-b88a-36331fedeac5\")>, <selenium.webdriver.remote.webelement.WebElement (session=\"63144ef35bd5012be7eed74539e1d1d9\", element=\"37092b7c-ce0c-4f2d-b8c0-010d36bc3b7e\")>, <selenium.webdriver.remote.webelement.WebElement (session=\"63144ef35bd5012be7eed74539e1d1d9\", element=\"afa23c22-91f4-4026-b07c-23443580cbd8\")>, <selenium.webdriver.remote.webelement.WebElement (session=\"63144ef35bd5012be7eed74539e1d1d9\", element=\"9aa7d8bf-34e3-47be-bc9c-051a1fb4fce3\")>, <selenium.webdriver.remote.webelement.WebElement (session=\"63144ef35bd5012be7eed74539e1d1d9\", element=\"70d1f257-f524-437c-ab9f-bce66985c8c6\")>, <selenium.webdriver.remote.webelement.WebElement (session=\"63144ef35bd5012be7eed74539e1d1d9\", element=\"549e9df6-5e4e-4d18-82c6-aa656b198600\")>, <selenium.webdriver.remote.webelement.WebElement (session=\"63144ef35bd5012be7eed74539e1d1d9\", element=\"bb4ad1f7-2e1b-4d52-8238-735bf49e51a3\")>, <selenium.webdriver.remote.webelement.WebElement (session=\"63144ef35bd5012be7eed74539e1d1d9\", element=\"e54910fe-c81b-4c26-b00a-28782d966e14\")>, <selenium.webdriver.remote.webelement.WebElement (session=\"63144ef35bd5012be7eed74539e1d1d9\", element=\"2c16c2a3-54fd-4e7b-95bc-e027eb1b791f\")>, <selenium.webdriver.remote.webelement.WebElement (session=\"63144ef35bd5012be7eed74539e1d1d9\", element=\"56096e95-dab2-4a03-9fe6-527319817155\")>, <selenium.webdriver.remote.webelement.WebElement (session=\"63144ef35bd5012be7eed74539e1d1d9\", element=\"bcbc152d-28d2-4265-903b-0b647176cc22\")>, <selenium.webdriver.remote.webelement.WebElement (session=\"63144ef35bd5012be7eed74539e1d1d9\", element=\"e66abb6a-be89-4724-aaf4-1fad95ee2fe8\")>, <selenium.webdriver.remote.webelement.WebElement (session=\"63144ef35bd5012be7eed74539e1d1d9\", element=\"e34e75f5-3c86-4e48-b001-8d29cfa34442\")>, <selenium.webdriver.remote.webelement.WebElement (session=\"63144ef35bd5012be7eed74539e1d1d9\", element=\"ff7626b8-0e6b-4678-aaff-8e98cd4e3e27\")>, <selenium.webdriver.remote.webelement.WebElement (session=\"63144ef35bd5012be7eed74539e1d1d9\", element=\"f0a1826d-47c4-4875-bb40-db46d4cb23d3\")>, <selenium.webdriver.remote.webelement.WebElement (session=\"63144ef35bd5012be7eed74539e1d1d9\", element=\"1f2ff4a0-01fa-4ca7-8464-9eb2d3470f8f\")>, <selenium.webdriver.remote.webelement.WebElement (session=\"63144ef35bd5012be7eed74539e1d1d9\", element=\"3660e6ef-308a-4072-9fa0-53031ee6a71f\")>, <selenium.webdriver.remote.webelement.WebElement (session=\"63144ef35bd5012be7eed74539e1d1d9\", element=\"0fecdb82-5cb4-49d1-9e09-c180cd1ef6f4\")>, <selenium.webdriver.remote.webelement.WebElement (session=\"63144ef35bd5012be7eed74539e1d1d9\", element=\"64d7d33f-41a0-4102-a381-521830e5392d\")>, <selenium.webdriver.remote.webelement.WebElement (session=\"63144ef35bd5012be7eed74539e1d1d9\", element=\"1653d2af-314f-425f-9e9b-5162a30bd167\")>, <selenium.webdriver.remote.webelement.WebElement (session=\"63144ef35bd5012be7eed74539e1d1d9\", element=\"1ca49897-046d-4125-8638-1c6202de0c0b\")>, <selenium.webdriver.remote.webelement.WebElement (session=\"63144ef35bd5012be7eed74539e1d1d9\", element=\"6b2a7520-1d1a-42e8-93b7-22ee44e9c495\")>, <selenium.webdriver.remote.webelement.WebElement (session=\"63144ef35bd5012be7eed74539e1d1d9\", element=\"b1b12714-816d-4dad-bb36-464d99f3e1ec\")>, <selenium.webdriver.remote.webelement.WebElement (session=\"63144ef35bd5012be7eed74539e1d1d9\", element=\"d3e9a911-5c11-41e5-a32c-271e87a9a460\")>, <selenium.webdriver.remote.webelement.WebElement (session=\"63144ef35bd5012be7eed74539e1d1d9\", element=\"0d096bc8-6f53-470e-840f-346455f0f4ad\")>, <selenium.webdriver.remote.webelement.WebElement (session=\"63144ef35bd5012be7eed74539e1d1d9\", element=\"915ccf5f-1996-4908-ae8f-92ba41cfaa90\")>, <selenium.webdriver.remote.webelement.WebElement (session=\"63144ef35bd5012be7eed74539e1d1d9\", element=\"a81112e2-b98c-4ad2-b6d4-ac93f0abf6cc\")>, <selenium.webdriver.remote.webelement.WebElement (session=\"63144ef35bd5012be7eed74539e1d1d9\", element=\"6748c1e9-0eb5-4fd8-a24a-15a6d6914c6b\")>, <selenium.webdriver.remote.webelement.WebElement (session=\"63144ef35bd5012be7eed74539e1d1d9\", element=\"43758ed6-e2ab-4d6a-aed9-8f1c2f36ed22\")>, <selenium.webdriver.remote.webelement.WebElement (session=\"63144ef35bd5012be7eed74539e1d1d9\", element=\"957f61ec-c02f-4f92-8050-987eb906ec48\")>, <selenium.webdriver.remote.webelement.WebElement (session=\"63144ef35bd5012be7eed74539e1d1d9\", element=\"ec564db9-4eac-4657-9842-1553431f5358\")>, <selenium.webdriver.remote.webelement.WebElement (session=\"63144ef35bd5012be7eed74539e1d1d9\", element=\"6012e8bd-4739-44d1-a889-2b25f6858eb8\")>, <selenium.webdriver.remote.webelement.WebElement (session=\"63144ef35bd5012be7eed74539e1d1d9\", element=\"bba0c4ac-6af5-4a32-a2fe-cb6246a86178\")>, <selenium.webdriver.remote.webelement.WebElement (session=\"63144ef35bd5012be7eed74539e1d1d9\", element=\"75b40f9b-7f44-4e7a-8f69-cc8fbadb5d23\")>, <selenium.webdriver.remote.webelement.WebElement (session=\"63144ef35bd5012be7eed74539e1d1d9\", element=\"a175d30b-e62f-4bc7-92af-71fe48ca1ee3\")>, <selenium.webdriver.remote.webelement.WebElement (session=\"63144ef35bd5012be7eed74539e1d1d9\", element=\"b63c8023-e2f4-4fb8-a1f9-f18e54c053eb\")>, <selenium.webdriver.remote.webelement.WebElement (session=\"63144ef35bd5012be7eed74539e1d1d9\", element=\"d304d394-33ad-4f5e-8a52-e6c65059c300\")>, <selenium.webdriver.remote.webelement.WebElement (session=\"63144ef35bd5012be7eed74539e1d1d9\", element=\"6fab8752-4674-467d-90a9-bfc278c9158f\")>, <selenium.webdriver.remote.webelement.WebElement (session=\"63144ef35bd5012be7eed74539e1d1d9\", element=\"5e89e329-7e17-4e91-94e9-4c701cca6289\")>, <selenium.webdriver.remote.webelement.WebElement (session=\"63144ef35bd5012be7eed74539e1d1d9\", element=\"c0b1573b-0fc4-4799-a963-d59eb9b9415b\")>, <selenium.webdriver.remote.webelement.WebElement (session=\"63144ef35bd5012be7eed74539e1d1d9\", element=\"f1628dd6-75a1-4cb6-a0d7-c86f0ac3288e\")>, <selenium.webdriver.remote.webelement.WebElement (session=\"63144ef35bd5012be7eed74539e1d1d9\", element=\"ea71865e-3977-47c1-864d-800de69dd2bb\")>, <selenium.webdriver.remote.webelement.WebElement (session=\"63144ef35bd5012be7eed74539e1d1d9\", element=\"1498fe35-1d27-4a28-9e28-b7c531a30438\")>, <selenium.webdriver.remote.webelement.WebElement (session=\"63144ef35bd5012be7eed74539e1d1d9\", element=\"8f67af25-cd46-4b19-a43f-89bbc0350acd\")>, <selenium.webdriver.remote.webelement.WebElement (session=\"63144ef35bd5012be7eed74539e1d1d9\", element=\"bfe8b936-561d-4957-ae8e-884e8d96c251\")>, <selenium.webdriver.remote.webelement.WebElement (session=\"63144ef35bd5012be7eed74539e1d1d9\", element=\"f042ea36-a4f3-4226-a123-bec5308e983f\")>, <selenium.webdriver.remote.webelement.WebElement (session=\"63144ef35bd5012be7eed74539e1d1d9\", element=\"e8b98df2-8369-4ddd-80b8-f66af3a865ce\")>, <selenium.webdriver.remote.webelement.WebElement (session=\"63144ef35bd5012be7eed74539e1d1d9\", element=\"def1727e-0297-4984-8466-8f2a506fce2a\")>, <selenium.webdriver.remote.webelement.WebElement (session=\"63144ef35bd5012be7eed74539e1d1d9\", element=\"5c677a52-3351-472e-8b27-5a20a77be095\")>, <selenium.webdriver.remote.webelement.WebElement (session=\"63144ef35bd5012be7eed74539e1d1d9\", element=\"ed3699ad-40d2-4970-8907-47e997818e71\")>, <selenium.webdriver.remote.webelement.WebElement (session=\"63144ef35bd5012be7eed74539e1d1d9\", element=\"5f9f1acb-ad8b-42d1-ab5f-fe0267b9f763\")>, <selenium.webdriver.remote.webelement.WebElement (session=\"63144ef35bd5012be7eed74539e1d1d9\", element=\"d08d4097-4324-42cb-9943-1f0b82cbfdc6\")>, <selenium.webdriver.remote.webelement.WebElement (session=\"63144ef35bd5012be7eed74539e1d1d9\", element=\"e8e83539-4a85-4178-9096-7fae76f007ba\")>, <selenium.webdriver.remote.webelement.WebElement (session=\"63144ef35bd5012be7eed74539e1d1d9\", element=\"d402c1e3-8bbd-48fe-9622-3e1f674aca3d\")>, <selenium.webdriver.remote.webelement.WebElement (session=\"63144ef35bd5012be7eed74539e1d1d9\", element=\"8655546b-0796-40c0-a690-8ecfabfdc9ce\")>, <selenium.webdriver.remote.webelement.WebElement (session=\"63144ef35bd5012be7eed74539e1d1d9\", element=\"8a89a341-d9cd-472a-a2ad-3afc57406e45\")>, <selenium.webdriver.remote.webelement.WebElement (session=\"63144ef35bd5012be7eed74539e1d1d9\", element=\"f44ee014-1cc7-47f2-a193-e6c6a6aec828\")>, <selenium.webdriver.remote.webelement.WebElement (session=\"63144ef35bd5012be7eed74539e1d1d9\", element=\"fb0dfa3b-bdd7-46dc-8e98-4ebbc0e9cdaa\")>, <selenium.webdriver.remote.webelement.WebElement (session=\"63144ef35bd5012be7eed74539e1d1d9\", element=\"6a17817c-b563-4692-a547-cd47599217fd\")>, <selenium.webdriver.remote.webelement.WebElement (session=\"63144ef35bd5012be7eed74539e1d1d9\", element=\"505c83f7-236e-4933-8701-73807512ef28\")>, <selenium.webdriver.remote.webelement.WebElement (session=\"63144ef35bd5012be7eed74539e1d1d9\", element=\"7b3ac25d-ca20-4d66-b4ea-c47564496b12\")>, <selenium.webdriver.remote.webelement.WebElement (session=\"63144ef35bd5012be7eed74539e1d1d9\", element=\"04796229-1614-42e0-8de5-443cb0624118\")>, <selenium.webdriver.remote.webelement.WebElement (session=\"63144ef35bd5012be7eed74539e1d1d9\", element=\"2a496b04-b378-4236-986e-8e0546f520da\")>, <selenium.webdriver.remote.webelement.WebElement (session=\"63144ef35bd5012be7eed74539e1d1d9\", element=\"293a4780-7be5-48d5-ab71-2f740c290a60\")>, <selenium.webdriver.remote.webelement.WebElement (session=\"63144ef35bd5012be7eed74539e1d1d9\", element=\"f091d819-84ad-4c25-beba-285f99370ad0\")>, <selenium.webdriver.remote.webelement.WebElement (session=\"63144ef35bd5012be7eed74539e1d1d9\", element=\"05a52e48-6357-4d64-9c8f-7e86d6280437\")>, <selenium.webdriver.remote.webelement.WebElement (session=\"63144ef35bd5012be7eed74539e1d1d9\", element=\"70dee446-ab03-40c1-9eb0-9a6809dfc390\")>, <selenium.webdriver.remote.webelement.WebElement (session=\"63144ef35bd5012be7eed74539e1d1d9\", element=\"6c8bf099-98e2-4e03-94a9-0409d848beee\")>, <selenium.webdriver.remote.webelement.WebElement (session=\"63144ef35bd5012be7eed74539e1d1d9\", element=\"0ff74927-a741-42bf-8358-a283f3ae6494\")>, <selenium.webdriver.remote.webelement.WebElement (session=\"63144ef35bd5012be7eed74539e1d1d9\", element=\"c83ef7c2-f006-4a90-a91f-0786664c3f28\")>, <selenium.webdriver.remote.webelement.WebElement (session=\"63144ef35bd5012be7eed74539e1d1d9\", element=\"f3928eb1-ac8b-4233-a764-7e4fb988ce91\")>, <selenium.webdriver.remote.webelement.WebElement (session=\"63144ef35bd5012be7eed74539e1d1d9\", element=\"664db832-cb92-422b-86df-75b983a7bc74\")>, <selenium.webdriver.remote.webelement.WebElement (session=\"63144ef35bd5012be7eed74539e1d1d9\", element=\"c3a1c321-5820-4b03-8f9f-c5c367983e38\")>, <selenium.webdriver.remote.webelement.WebElement (session=\"63144ef35bd5012be7eed74539e1d1d9\", element=\"e8e9e02d-01f8-4abd-89d7-70c4234fd2b4\")>, <selenium.webdriver.remote.webelement.WebElement (session=\"63144ef35bd5012be7eed74539e1d1d9\", element=\"590a3902-1d4a-4567-8208-6a50277c3807\")>, <selenium.webdriver.remote.webelement.WebElement (session=\"63144ef35bd5012be7eed74539e1d1d9\", element=\"c547508d-f762-406a-9f72-1d3b7282ddb6\")>, <selenium.webdriver.remote.webelement.WebElement (session=\"63144ef35bd5012be7eed74539e1d1d9\", element=\"78a75ca9-49f9-4dc4-ae93-8158dc462ef8\")>, <selenium.webdriver.remote.webelement.WebElement (session=\"63144ef35bd5012be7eed74539e1d1d9\", element=\"51d3760c-02e3-430e-861b-e05e0c1e887e\")>, <selenium.webdriver.remote.webelement.WebElement (session=\"63144ef35bd5012be7eed74539e1d1d9\", element=\"707d740b-8156-4584-a3cc-bc2ba7a45983\")>, <selenium.webdriver.remote.webelement.WebElement (session=\"63144ef35bd5012be7eed74539e1d1d9\", element=\"98426f16-f8a3-4397-b9e2-35b822fdd26d\")>, <selenium.webdriver.remote.webelement.WebElement (session=\"63144ef35bd5012be7eed74539e1d1d9\", element=\"cd528623-65af-40ac-b9f2-2cdefd25c48e\")>, <selenium.webdriver.remote.webelement.WebElement (session=\"63144ef35bd5012be7eed74539e1d1d9\", element=\"b96cf021-89b5-4222-868f-0ebf7f140fbf\")>, <selenium.webdriver.remote.webelement.WebElement (session=\"63144ef35bd5012be7eed74539e1d1d9\", element=\"bed879ab-ad5f-4620-956d-a323bd60a20b\")>, <selenium.webdriver.remote.webelement.WebElement (session=\"63144ef35bd5012be7eed74539e1d1d9\", element=\"906ad394-367d-4892-91b1-be0a62f8069e\")>, <selenium.webdriver.remote.webelement.WebElement (session=\"63144ef35bd5012be7eed74539e1d1d9\", element=\"2d76039c-65c9-41a5-b1f3-e9bb732edd97\")>, <selenium.webdriver.remote.webelement.WebElement (session=\"63144ef35bd5012be7eed74539e1d1d9\", element=\"352af319-f31e-44d4-89d4-b410760e5e7c\")>, <selenium.webdriver.remote.webelement.WebElement (session=\"63144ef35bd5012be7eed74539e1d1d9\", element=\"7ae83b82-7f64-468f-aa8e-b1ec0be5992d\")>, <selenium.webdriver.remote.webelement.WebElement (session=\"63144ef35bd5012be7eed74539e1d1d9\", element=\"9640ab41-c38a-44e6-80a3-3f054928ae2b\")>, <selenium.webdriver.remote.webelement.WebElement (session=\"63144ef35bd5012be7eed74539e1d1d9\", element=\"70e0e187-7f69-4c7e-83ac-043553547d08\")>, <selenium.webdriver.remote.webelement.WebElement (session=\"63144ef35bd5012be7eed74539e1d1d9\", element=\"f699a49a-e234-4645-99ec-c9529de23226\")>, <selenium.webdriver.remote.webelement.WebElement (session=\"63144ef35bd5012be7eed74539e1d1d9\", element=\"737521be-81f7-4501-847a-f0d4ff3b0b94\")>, <selenium.webdriver.remote.webelement.WebElement (session=\"63144ef35bd5012be7eed74539e1d1d9\", element=\"df9bccf1-7c37-4945-b70d-486b44a3ebbb\")>, <selenium.webdriver.remote.webelement.WebElement (session=\"63144ef35bd5012be7eed74539e1d1d9\", element=\"0cb3f245-12c7-43da-8a51-1306f6120298\")>, <selenium.webdriver.remote.webelement.WebElement (session=\"63144ef35bd5012be7eed74539e1d1d9\", element=\"7aa6884f-ed2f-46de-83f4-8d4c4b94803b\")>, <selenium.webdriver.remote.webelement.WebElement (session=\"63144ef35bd5012be7eed74539e1d1d9\", element=\"3815b9b2-9c75-42f3-984c-0ce864aec1a5\")>, <selenium.webdriver.remote.webelement.WebElement (session=\"63144ef35bd5012be7eed74539e1d1d9\", element=\"6e5dc1b1-35cc-4213-9b23-91b84a1df203\")>, <selenium.webdriver.remote.webelement.WebElement (session=\"63144ef35bd5012be7eed74539e1d1d9\", element=\"cfe60403-d29b-4083-a640-5583d3d8c885\")>, <selenium.webdriver.remote.webelement.WebElement (session=\"63144ef35bd5012be7eed74539e1d1d9\", element=\"2d5ff52f-a9f7-4b88-a483-5252bfb83c19\")>, <selenium.webdriver.remote.webelement.WebElement (session=\"63144ef35bd5012be7eed74539e1d1d9\", element=\"de834074-0cc3-467c-8217-fe3429ccceda\")>, <selenium.webdriver.remote.webelement.WebElement (session=\"63144ef35bd5012be7eed74539e1d1d9\", element=\"9b232f28-33d9-4fe7-97d0-2b9277dfe800\")>, <selenium.webdriver.remote.webelement.WebElement (session=\"63144ef35bd5012be7eed74539e1d1d9\", element=\"ed773d12-f710-43ca-a902-97a8f27789b3\")>, <selenium.webdriver.remote.webelement.WebElement (session=\"63144ef35bd5012be7eed74539e1d1d9\", element=\"9f7d0ce8-9a72-4f8d-b740-f3c0538ec420\")>, <selenium.webdriver.remote.webelement.WebElement (session=\"63144ef35bd5012be7eed74539e1d1d9\", element=\"87ea7cd7-e2a2-423d-996f-600e4c17e094\")>, <selenium.webdriver.remote.webelement.WebElement (session=\"63144ef35bd5012be7eed74539e1d1d9\", element=\"94474b3e-e62e-4cd0-844d-f5780bc99c5a\")>, <selenium.webdriver.remote.webelement.WebElement (session=\"63144ef35bd5012be7eed74539e1d1d9\", element=\"5f7d2d7a-2964-4785-9512-df63e6a0a39b\")>, <selenium.webdriver.remote.webelement.WebElement (session=\"63144ef35bd5012be7eed74539e1d1d9\", element=\"098d3a28-47ce-41fc-b0b4-d6c36b2e7120\")>, <selenium.webdriver.remote.webelement.WebElement (session=\"63144ef35bd5012be7eed74539e1d1d9\", element=\"3516771f-ecad-4300-b052-d8abcdddcb56\")>, <selenium.webdriver.remote.webelement.WebElement (session=\"63144ef35bd5012be7eed74539e1d1d9\", element=\"9cb30a81-e31e-4f00-b2f7-8350e848a2a0\")>, <selenium.webdriver.remote.webelement.WebElement (session=\"63144ef35bd5012be7eed74539e1d1d9\", element=\"253b0195-2a5e-499e-a069-c4eb16176da3\")>, <selenium.webdriver.remote.webelement.WebElement (session=\"63144ef35bd5012be7eed74539e1d1d9\", element=\"dc36120c-af7b-4623-ac64-ac62e821b10d\")>, <selenium.webdriver.remote.webelement.WebElement (session=\"63144ef35bd5012be7eed74539e1d1d9\", element=\"0553dfd9-af24-4109-bb8e-7fac3ad36c68\")>, <selenium.webdriver.remote.webelement.WebElement (session=\"63144ef35bd5012be7eed74539e1d1d9\", element=\"d062c66a-7be4-42c6-aa46-69e56d223ead\")>, <selenium.webdriver.remote.webelement.WebElement (session=\"63144ef35bd5012be7eed74539e1d1d9\", element=\"7cf80209-0375-4a7f-b518-73fb583921c0\")>, <selenium.webdriver.remote.webelement.WebElement (session=\"63144ef35bd5012be7eed74539e1d1d9\", element=\"fabe6594-4be8-4199-baa4-1cf95d2a6aa6\")>, <selenium.webdriver.remote.webelement.WebElement (session=\"63144ef35bd5012be7eed74539e1d1d9\", element=\"0b912c95-82b3-4960-a872-91a02008a969\")>, <selenium.webdriver.remote.webelement.WebElement (session=\"63144ef35bd5012be7eed74539e1d1d9\", element=\"7bf8a02a-d516-41e8-89ba-6d1b469b3916\")>, <selenium.webdriver.remote.webelement.WebElement (session=\"63144ef35bd5012be7eed74539e1d1d9\", element=\"ba8be88f-e288-4245-a331-d76079b80a6d\")>, <selenium.webdriver.remote.webelement.WebElement (session=\"63144ef35bd5012be7eed74539e1d1d9\", element=\"48a518ab-96af-43e0-a1d8-4d7598816f6f\")>, <selenium.webdriver.remote.webelement.WebElement (session=\"63144ef35bd5012be7eed74539e1d1d9\", element=\"bb8bb317-5c57-4737-a5b6-127c3ad79cf3\")>, <selenium.webdriver.remote.webelement.WebElement (session=\"63144ef35bd5012be7eed74539e1d1d9\", element=\"48624a30-5cf0-4592-bc91-4ffefd6bb93b\")>, <selenium.webdriver.remote.webelement.WebElement (session=\"63144ef35bd5012be7eed74539e1d1d9\", element=\"d6d43d49-ad02-48ba-91d6-1e2df7ad140c\")>, <selenium.webdriver.remote.webelement.WebElement (session=\"63144ef35bd5012be7eed74539e1d1d9\", element=\"0310f40d-cae5-4f18-89cc-0073dd00380e\")>, <selenium.webdriver.remote.webelement.WebElement (session=\"63144ef35bd5012be7eed74539e1d1d9\", element=\"c91e3bbf-1d44-4bce-b639-5b2dcff82e71\")>, <selenium.webdriver.remote.webelement.WebElement (session=\"63144ef35bd5012be7eed74539e1d1d9\", element=\"a85f6ceb-23b5-4ae8-9df8-05b8011cc057\")>, <selenium.webdriver.remote.webelement.WebElement (session=\"63144ef35bd5012be7eed74539e1d1d9\", element=\"9c506d18-6eb3-4a7c-b268-9431be91478b\")>, <selenium.webdriver.remote.webelement.WebElement (session=\"63144ef35bd5012be7eed74539e1d1d9\", element=\"9a4b40e9-f639-4486-9702-4a1984876924\")>, <selenium.webdriver.remote.webelement.WebElement (session=\"63144ef35bd5012be7eed74539e1d1d9\", element=\"f6927526-7521-4b38-bf2f-d32506059e66\")>, <selenium.webdriver.remote.webelement.WebElement (session=\"63144ef35bd5012be7eed74539e1d1d9\", element=\"f3fa0cec-70b8-41f9-be8a-97e534515349\")>, <selenium.webdriver.remote.webelement.WebElement (session=\"63144ef35bd5012be7eed74539e1d1d9\", element=\"503e6e5e-aa68-4b78-bda2-72151efbcc3e\")>, <selenium.webdriver.remote.webelement.WebElement (session=\"63144ef35bd5012be7eed74539e1d1d9\", element=\"b01d12e0-9dfe-47bb-a65d-ca171e893f59\")>, <selenium.webdriver.remote.webelement.WebElement (session=\"63144ef35bd5012be7eed74539e1d1d9\", element=\"c7c64fca-cbe1-41a7-a18a-5b351d9c61db\")>, <selenium.webdriver.remote.webelement.WebElement (session=\"63144ef35bd5012be7eed74539e1d1d9\", element=\"8309787b-5428-4300-b8b5-4380a66409a7\")>, <selenium.webdriver.remote.webelement.WebElement (session=\"63144ef35bd5012be7eed74539e1d1d9\", element=\"0b6022e7-20a4-41c0-917d-c22af6ebfc86\")>, <selenium.webdriver.remote.webelement.WebElement (session=\"63144ef35bd5012be7eed74539e1d1d9\", element=\"34045db3-ffa7-4956-a68a-1a9230af1a56\")>, <selenium.webdriver.remote.webelement.WebElement (session=\"63144ef35bd5012be7eed74539e1d1d9\", element=\"a9583bc7-221d-45c5-a569-982e8a764228\")>, <selenium.webdriver.remote.webelement.WebElement (session=\"63144ef35bd5012be7eed74539e1d1d9\", element=\"96c13ba7-261c-435f-9bcc-b673627c911b\")>, <selenium.webdriver.remote.webelement.WebElement (session=\"63144ef35bd5012be7eed74539e1d1d9\", element=\"80d397e4-fa3f-415f-a0cd-0cfe5f8fbb24\")>, <selenium.webdriver.remote.webelement.WebElement (session=\"63144ef35bd5012be7eed74539e1d1d9\", element=\"215e7220-6244-40b8-a2dd-325dff67f8ac\")>, <selenium.webdriver.remote.webelement.WebElement (session=\"63144ef35bd5012be7eed74539e1d1d9\", element=\"c0ea5b60-dc1c-4b77-ba34-fc1735daee51\")>, <selenium.webdriver.remote.webelement.WebElement (session=\"63144ef35bd5012be7eed74539e1d1d9\", element=\"dde7e38d-703d-4ff1-8fb1-8c64e9ef80ed\")>, <selenium.webdriver.remote.webelement.WebElement (session=\"63144ef35bd5012be7eed74539e1d1d9\", element=\"327e48b7-cb88-4e8a-a9f9-9f5ef000be9e\")>, <selenium.webdriver.remote.webelement.WebElement (session=\"63144ef35bd5012be7eed74539e1d1d9\", element=\"0b04a74f-17aa-4a7a-8167-dafe4882fddc\")>, <selenium.webdriver.remote.webelement.WebElement (session=\"63144ef35bd5012be7eed74539e1d1d9\", element=\"b89a1b03-091d-4976-ad66-302c9c0f2969\")>, <selenium.webdriver.remote.webelement.WebElement (session=\"63144ef35bd5012be7eed74539e1d1d9\", element=\"bdcf42a9-7346-4889-81da-b2ac56c87b35\")>, <selenium.webdriver.remote.webelement.WebElement (session=\"63144ef35bd5012be7eed74539e1d1d9\", element=\"ebfcd369-8d19-4f6d-8fb0-af88eb715ec7\")>, <selenium.webdriver.remote.webelement.WebElement (session=\"63144ef35bd5012be7eed74539e1d1d9\", element=\"229abf05-ed9d-4e5f-b367-c3c6fa6119c5\")>, <selenium.webdriver.remote.webelement.WebElement (session=\"63144ef35bd5012be7eed74539e1d1d9\", element=\"a2425f5d-4d06-4fdc-a07c-1d70d8f6319e\")>, <selenium.webdriver.remote.webelement.WebElement (session=\"63144ef35bd5012be7eed74539e1d1d9\", element=\"23d3f6e2-884b-44b2-b5af-6833550929e2\")>, <selenium.webdriver.remote.webelement.WebElement (session=\"63144ef35bd5012be7eed74539e1d1d9\", element=\"f4283ca8-a0cd-464c-85e6-8b3bb37144de\")>, <selenium.webdriver.remote.webelement.WebElement (session=\"63144ef35bd5012be7eed74539e1d1d9\", element=\"795189d3-dea0-4abe-b3ac-bfe487ad5a1d\")>, <selenium.webdriver.remote.webelement.WebElement (session=\"63144ef35bd5012be7eed74539e1d1d9\", element=\"77dbb68d-43e3-400a-b705-4c24aa29d2b1\")>, <selenium.webdriver.remote.webelement.WebElement (session=\"63144ef35bd5012be7eed74539e1d1d9\", element=\"ecffb06b-ff6b-4cbf-8a4b-64acbfb00972\")>, <selenium.webdriver.remote.webelement.WebElement (session=\"63144ef35bd5012be7eed74539e1d1d9\", element=\"f8ad2c8e-f2a6-493f-8645-1a9396bd9f5a\")>, <selenium.webdriver.remote.webelement.WebElement (session=\"63144ef35bd5012be7eed74539e1d1d9\", element=\"70e6ccdf-6ff1-46b3-ba5a-875ce67213c3\")>, <selenium.webdriver.remote.webelement.WebElement (session=\"63144ef35bd5012be7eed74539e1d1d9\", element=\"abe157a2-7eb6-4032-b9b1-327c90df2aa3\")>, <selenium.webdriver.remote.webelement.WebElement (session=\"63144ef35bd5012be7eed74539e1d1d9\", element=\"b6950326-9186-4dff-a1b8-a24a204f1b7a\")>, <selenium.webdriver.remote.webelement.WebElement (session=\"63144ef35bd5012be7eed74539e1d1d9\", element=\"9051c30e-51aa-4f19-8987-2b077e62ec70\")>, <selenium.webdriver.remote.webelement.WebElement (session=\"63144ef35bd5012be7eed74539e1d1d9\", element=\"ee1f8c0b-ce89-4aa4-8156-667b46777473\")>, <selenium.webdriver.remote.webelement.WebElement (session=\"63144ef35bd5012be7eed74539e1d1d9\", element=\"1653fe76-96e4-429b-9975-f37bb1e360c7\")>, <selenium.webdriver.remote.webelement.WebElement (session=\"63144ef35bd5012be7eed74539e1d1d9\", element=\"beb6bb32-18a5-4b5c-b94f-002913dd7634\")>, <selenium.webdriver.remote.webelement.WebElement (session=\"63144ef35bd5012be7eed74539e1d1d9\", element=\"17159d95-9232-4a2e-8598-b9b962c30920\")>, <selenium.webdriver.remote.webelement.WebElement (session=\"63144ef35bd5012be7eed74539e1d1d9\", element=\"3da37b55-0ce7-459b-b93e-e7fa7423ff1b\")>, <selenium.webdriver.remote.webelement.WebElement (session=\"63144ef35bd5012be7eed74539e1d1d9\", element=\"23076b10-b238-4886-b0fe-3872f5865a8f\")>, <selenium.webdriver.remote.webelement.WebElement (session=\"63144ef35bd5012be7eed74539e1d1d9\", element=\"74546046-bb89-4c36-a1ef-ff5a16610c63\")>, <selenium.webdriver.remote.webelement.WebElement (session=\"63144ef35bd5012be7eed74539e1d1d9\", element=\"20c4751b-77fb-4406-9e94-778924c8cdeb\")>, <selenium.webdriver.remote.webelement.WebElement (session=\"63144ef35bd5012be7eed74539e1d1d9\", element=\"57cf2830-0b3d-46e2-a9fe-e85b923cf06d\")>, <selenium.webdriver.remote.webelement.WebElement (session=\"63144ef35bd5012be7eed74539e1d1d9\", element=\"5ed15bb1-8f3e-40dd-886f-8bf46e778b09\")>, <selenium.webdriver.remote.webelement.WebElement (session=\"63144ef35bd5012be7eed74539e1d1d9\", element=\"b95f676e-75c1-42f2-90e2-f0add1e0cdb3\")>, <selenium.webdriver.remote.webelement.WebElement (session=\"63144ef35bd5012be7eed74539e1d1d9\", element=\"b3e80fc6-6a15-4dc9-a2ac-1df1725ec4b4\")>, <selenium.webdriver.remote.webelement.WebElement (session=\"63144ef35bd5012be7eed74539e1d1d9\", element=\"109b4b0c-1d10-4c76-b16f-5279337118a2\")>, <selenium.webdriver.remote.webelement.WebElement (session=\"63144ef35bd5012be7eed74539e1d1d9\", element=\"89cca29b-b20c-4a97-8c05-71020dc1b821\")>, <selenium.webdriver.remote.webelement.WebElement (session=\"63144ef35bd5012be7eed74539e1d1d9\", element=\"9f73f89c-66e5-4bed-8fd4-6f08d601cfc8\")>, <selenium.webdriver.remote.webelement.WebElement (session=\"63144ef35bd5012be7eed74539e1d1d9\", element=\"5c98d075-13f1-470f-8775-60405830da8d\")>, <selenium.webdriver.remote.webelement.WebElement (session=\"63144ef35bd5012be7eed74539e1d1d9\", element=\"f538c5c2-7ad6-4096-aa3e-10882da0389c\")>, <selenium.webdriver.remote.webelement.WebElement (session=\"63144ef35bd5012be7eed74539e1d1d9\", element=\"6853ce22-c4b5-47be-bea5-f6c65f3c4a32\")>, <selenium.webdriver.remote.webelement.WebElement (session=\"63144ef35bd5012be7eed74539e1d1d9\", element=\"ae6f53f6-c285-4c36-9bbe-2fbaf6d1eebb\")>, <selenium.webdriver.remote.webelement.WebElement (session=\"63144ef35bd5012be7eed74539e1d1d9\", element=\"050880fb-9ec7-417d-a4ad-de3f0534e725\")>, <selenium.webdriver.remote.webelement.WebElement (session=\"63144ef35bd5012be7eed74539e1d1d9\", element=\"c4c94cb2-fe8a-4212-91f4-399df46005cd\")>, <selenium.webdriver.remote.webelement.WebElement (session=\"63144ef35bd5012be7eed74539e1d1d9\", element=\"b196bb15-0f8a-4e86-a2c5-821d12d58535\")>, <selenium.webdriver.remote.webelement.WebElement (session=\"63144ef35bd5012be7eed74539e1d1d9\", element=\"7f88caec-f73c-4d7c-af75-851e5fa1665f\")>, <selenium.webdriver.remote.webelement.WebElement (session=\"63144ef35bd5012be7eed74539e1d1d9\", element=\"9789295a-5921-444f-bbad-509eb8eca9e3\")>, <selenium.webdriver.remote.webelement.WebElement (session=\"63144ef35bd5012be7eed74539e1d1d9\", element=\"98434716-4f8b-429e-b7a8-22e07f790d05\")>, <selenium.webdriver.remote.webelement.WebElement (session=\"63144ef35bd5012be7eed74539e1d1d9\", element=\"c89103f3-3fd4-4266-bc32-6f4fdc943e14\")>, <selenium.webdriver.remote.webelement.WebElement (session=\"63144ef35bd5012be7eed74539e1d1d9\", element=\"2529db9d-6e94-4744-9356-d9b57cb24e18\")>, <selenium.webdriver.remote.webelement.WebElement (session=\"63144ef35bd5012be7eed74539e1d1d9\", element=\"60f6e544-eb16-4e14-ab93-200956234e10\")>, <selenium.webdriver.remote.webelement.WebElement (session=\"63144ef35bd5012be7eed74539e1d1d9\", element=\"bc661f69-919c-43b5-95b5-05aa32c5210e\")>, <selenium.webdriver.remote.webelement.WebElement (session=\"63144ef35bd5012be7eed74539e1d1d9\", element=\"239fd1cb-9413-4602-bcd1-5f4eef0c2a26\")>, <selenium.webdriver.remote.webelement.WebElement (session=\"63144ef35bd5012be7eed74539e1d1d9\", element=\"f63b7500-15a7-487b-8c24-b578a73b7c81\")>, <selenium.webdriver.remote.webelement.WebElement (session=\"63144ef35bd5012be7eed74539e1d1d9\", element=\"946278ed-3f26-40a7-92b0-324ff40edd1a\")>, <selenium.webdriver.remote.webelement.WebElement (session=\"63144ef35bd5012be7eed74539e1d1d9\", element=\"06f2d62e-9b55-456b-aa77-4c398cab35cc\")>, <selenium.webdriver.remote.webelement.WebElement (session=\"63144ef35bd5012be7eed74539e1d1d9\", element=\"6418c6f4-275f-4f06-826f-e5cc8e6d5e61\")>, <selenium.webdriver.remote.webelement.WebElement (session=\"63144ef35bd5012be7eed74539e1d1d9\", element=\"fbf042ea-fc38-4c8b-ae3d-99fbc6915012\")>, <selenium.webdriver.remote.webelement.WebElement (session=\"63144ef35bd5012be7eed74539e1d1d9\", element=\"844bb9b6-fd81-4b2a-bc3e-9d71e1340539\")>, <selenium.webdriver.remote.webelement.WebElement (session=\"63144ef35bd5012be7eed74539e1d1d9\", element=\"6668cec2-4595-4fe1-85da-f548c474f8ec\")>, <selenium.webdriver.remote.webelement.WebElement (session=\"63144ef35bd5012be7eed74539e1d1d9\", element=\"2656cc08-8c06-42e4-afd7-98a58842e4ff\")>, <selenium.webdriver.remote.webelement.WebElement (session=\"63144ef35bd5012be7eed74539e1d1d9\", element=\"9b993cd9-08e1-49ee-b501-9022183c0521\")>, <selenium.webdriver.remote.webelement.WebElement (session=\"63144ef35bd5012be7eed74539e1d1d9\", element=\"45b1bb14-5a2f-4920-80e4-c1fb640fa54c\")>, <selenium.webdriver.remote.webelement.WebElement (session=\"63144ef35bd5012be7eed74539e1d1d9\", element=\"706fe0b6-9c13-469a-91cc-09831be530c9\")>, <selenium.webdriver.remote.webelement.WebElement (session=\"63144ef35bd5012be7eed74539e1d1d9\", element=\"22ba4d1f-8dd0-4fe3-8730-6896dac6fa5d\")>, <selenium.webdriver.remote.webelement.WebElement (session=\"63144ef35bd5012be7eed74539e1d1d9\", element=\"8c1ce4c6-abaa-4583-b1e5-edae47fe4b11\")>, <selenium.webdriver.remote.webelement.WebElement (session=\"63144ef35bd5012be7eed74539e1d1d9\", element=\"851c0510-deee-4f0d-aadd-436a9c6e1881\")>]\n"
     ]
    }
   ],
   "source": [
    " images = driver.find_elements_by_xpath('//img[@class=\"rg_i Q4LuWd\"]')\n",
    " print(images)  "
   ]
  },
  {
   "cell_type": "code",
   "execution_count": 217,
   "metadata": {},
   "outputs": [
    {
     "data": {
      "text/plain": [
       "184"
      ]
     },
     "execution_count": 217,
     "metadata": {},
     "output_type": "execute_result"
    }
   ],
   "source": [
    "img_urls = []\n",
    "img_data = []\n",
    "for image in images:\n",
    "    source= image.get_attribute('src')\n",
    "    if source is not None:\n",
    "        if(source[0:4] == 'http'):\n",
    "            img_urls.append(source)\n",
    "len(img_urls)"
   ]
  },
  {
   "cell_type": "code",
   "execution_count": 218,
   "metadata": {},
   "outputs": [
    {
     "name": "stdout",
     "output_type": "stream",
     "text": [
      "Downloading 0 of 100 images\n",
      "Downloading 1 of 100 images\n",
      "Downloading 2 of 100 images\n",
      "Downloading 3 of 100 images\n",
      "Downloading 4 of 100 images\n",
      "Downloading 5 of 100 images\n",
      "Downloading 6 of 100 images\n",
      "Downloading 7 of 100 images\n",
      "Downloading 8 of 100 images\n",
      "Downloading 9 of 100 images\n",
      "Downloading 10 of 100 images\n",
      "Downloading 11 of 100 images\n",
      "Downloading 12 of 100 images\n",
      "Downloading 13 of 100 images\n",
      "Downloading 14 of 100 images\n",
      "Downloading 15 of 100 images\n",
      "Downloading 16 of 100 images\n",
      "Downloading 17 of 100 images\n",
      "Downloading 18 of 100 images\n",
      "Downloading 19 of 100 images\n",
      "Downloading 20 of 100 images\n",
      "Downloading 21 of 100 images\n",
      "Downloading 22 of 100 images\n",
      "Downloading 23 of 100 images\n",
      "Downloading 24 of 100 images\n",
      "Downloading 25 of 100 images\n",
      "Downloading 26 of 100 images\n",
      "Downloading 27 of 100 images\n",
      "Downloading 28 of 100 images\n",
      "Downloading 29 of 100 images\n",
      "Downloading 30 of 100 images\n",
      "Downloading 31 of 100 images\n",
      "Downloading 32 of 100 images\n",
      "Downloading 33 of 100 images\n",
      "Downloading 34 of 100 images\n",
      "Downloading 35 of 100 images\n",
      "Downloading 36 of 100 images\n",
      "Downloading 37 of 100 images\n",
      "Downloading 38 of 100 images\n",
      "Downloading 39 of 100 images\n",
      "Downloading 40 of 100 images\n",
      "Downloading 41 of 100 images\n",
      "Downloading 42 of 100 images\n",
      "Downloading 43 of 100 images\n",
      "Downloading 44 of 100 images\n",
      "Downloading 45 of 100 images\n",
      "Downloading 46 of 100 images\n",
      "Downloading 47 of 100 images\n",
      "Downloading 48 of 100 images\n",
      "Downloading 49 of 100 images\n",
      "Downloading 50 of 100 images\n",
      "Downloading 51 of 100 images\n",
      "Downloading 52 of 100 images\n",
      "Downloading 53 of 100 images\n",
      "Downloading 54 of 100 images\n",
      "Downloading 55 of 100 images\n",
      "Downloading 56 of 100 images\n",
      "Downloading 57 of 100 images\n",
      "Downloading 58 of 100 images\n",
      "Downloading 59 of 100 images\n",
      "Downloading 60 of 100 images\n",
      "Downloading 61 of 100 images\n",
      "Downloading 62 of 100 images\n",
      "Downloading 63 of 100 images\n",
      "Downloading 64 of 100 images\n",
      "Downloading 65 of 100 images\n",
      "Downloading 66 of 100 images\n",
      "Downloading 67 of 100 images\n",
      "Downloading 68 of 100 images\n",
      "Downloading 69 of 100 images\n",
      "Downloading 70 of 100 images\n",
      "Downloading 71 of 100 images\n",
      "Downloading 72 of 100 images\n",
      "Downloading 73 of 100 images\n",
      "Downloading 74 of 100 images\n",
      "Downloading 75 of 100 images\n",
      "Downloading 76 of 100 images\n",
      "Downloading 77 of 100 images\n",
      "Downloading 78 of 100 images\n",
      "Downloading 79 of 100 images\n",
      "Downloading 80 of 100 images\n",
      "Downloading 81 of 100 images\n",
      "Downloading 82 of 100 images\n",
      "Downloading 83 of 100 images\n",
      "Downloading 84 of 100 images\n",
      "Downloading 85 of 100 images\n",
      "Downloading 86 of 100 images\n",
      "Downloading 87 of 100 images\n",
      "Downloading 88 of 100 images\n",
      "Downloading 89 of 100 images\n",
      "Downloading 90 of 100 images\n",
      "Downloading 91 of 100 images\n",
      "Downloading 92 of 100 images\n",
      "Downloading 93 of 100 images\n",
      "Downloading 94 of 100 images\n",
      "Downloading 95 of 100 images\n",
      "Downloading 96 of 100 images\n",
      "Downloading 97 of 100 images\n",
      "Downloading 98 of 100 images\n",
      "Downloading 99 of 100 images\n"
     ]
    }
   ],
   "source": [
    "for i in range(len(img_urls)):\n",
    "    if i >= 100:\n",
    "        break\n",
    "    print(\"Downloading {0} of {1} images\" .format(i, 100))\n",
    "    response= requests.get(img_urls[i])\n",
    "    file = open(r\"E:\\Datatrained\\FlipRobo\\Projects\\Img\"+str(i)+\".jpg\", \"wb\")\n",
    "    file.write(response.content)"
   ]
  },
  {
   "cell_type": "code",
   "execution_count": null,
   "metadata": {},
   "outputs": [],
   "source": []
  },
  {
   "cell_type": "code",
   "execution_count": 236,
   "metadata": {},
   "outputs": [],
   "source": [
    "driver = webdriver.Chrome(r\"E://Datatrained//chromedriver.exe\")\n"
   ]
  },
  {
   "cell_type": "code",
   "execution_count": 237,
   "metadata": {},
   "outputs": [],
   "source": [
    "driver.get(\"https://www.flipkart.com/\")\n",
    "soup = BeautifulSoup(page, 'html.parser')"
   ]
  },
  {
   "cell_type": "code",
   "execution_count": 238,
   "metadata": {},
   "outputs": [],
   "source": [
    "search_job = driver.find_element_by_xpath(\"//input[@class='_3704LK']\")\n",
    "search_job.send_keys('galaxy fold 2')"
   ]
  },
  {
   "cell_type": "code",
   "execution_count": 239,
   "metadata": {},
   "outputs": [],
   "source": [
    "search_btn = driver.find_element_by_xpath(\"//button[@class='L0Z3Pu']\")\n",
    "search_btn.click()"
   ]
  },
  {
   "cell_type": "code",
   "execution_count": 245,
   "metadata": {},
   "outputs": [
    {
     "name": "stdout",
     "output_type": "stream",
     "text": [
      "Name :  SAMSUNG\n",
      "RAM :  256\n",
      "Colour :  Bronze,\n",
      "Name :  SAMSUNG\n",
      "RAM :  256\n",
      "Colour :  Bronze,\n",
      "Name :  SAMSUNG\n",
      "RAM :  256\n",
      "Colour :  Black,\n"
     ]
    }
   ],
   "source": [
    "#scraping the Mobile\n",
    "Mob = []\n",
    "\n",
    "Mobile=driver.find_elements_by_xpath(\"//div[@class='_4rR01T']\")\n",
    "for i in Mobile:\n",
    "    if i.text is Mobile :\n",
    "        Mob.append(\"--\") \n",
    "    else:\n",
    "        Mob.append(i.text.split())\n",
    "        for x in range(len(Mob)):\n",
    "            Name = Mob[x][0]\n",
    "            RAM = Mob[x][6]\n",
    "            Colour = Mob[x][5]\n",
    "            print('Name : ' , Name)\n",
    "            print('RAM : ', RAM)\n",
    "            print('Colour : ', Colour)\n",
    "\n",
    "        #Brand = Mob[x][0]\n",
    "        #Product= Mob[x][1]\n",
    "        #Colour =Mob[x][3]\n",
    "        #RAM = Mob[x][4]\n",
    "        \n",
    "    \n",
    "#res=[Mob[0] for i in Mob]\n",
    "#print(Mob[0:9])\n",
    "\n",
    "#print('Product : ' , Product)\n",
    "#print('Colour : ', Colour)\n",
    "#print('RAM : ', RAM)\n",
    "\n",
    "#<div class=\"\">OnePlus One (Silk White, 16 GB)</div>"
   ]
  },
  {
   "cell_type": "code",
   "execution_count": 246,
   "metadata": {},
   "outputs": [
    {
     "data": {
      "text/plain": [
       "[[['SAMSUNG', 'Galaxy', 'Fold', '2', '(Mystic', 'Black,', '256', 'GB)']],\n",
       " [['SAMSUNG', 'Galaxy', 'Fold', '2', '(Mystic', 'Black,', '256', 'GB)']]]"
      ]
     },
     "execution_count": 246,
     "metadata": {},
     "output_type": "execute_result"
    }
   ],
   "source": [
    "y = [Mob[1:] for i in Mob]\n",
    "y"
   ]
  },
  {
   "cell_type": "code",
   "execution_count": 247,
   "metadata": {},
   "outputs": [
    {
     "data": {
      "text/plain": [
       "['12 GB RAM | 256 GB ROM',\n",
       " '19.3 cm (7.6 inch) Display',\n",
       " '12MP + 12MP + 12MP',\n",
       " '4500 mAh Lithium-ion Battery',\n",
       " 'Qualcomm SM8250-AB Snapdragon 865+ Processor',\n",
       " '1 Year Manufacturer Warranty for Handset and 6 Months Warranty for In the Box Accessories',\n",
       " '12 GB RAM | 256 GB ROM',\n",
       " '19.3 cm (7.6 inch) Display',\n",
       " '12MP + 12MP + 12MP',\n",
       " '4500 mAh Lithium-ion Battery']"
      ]
     },
     "execution_count": 247,
     "metadata": {},
     "output_type": "execute_result"
    }
   ],
   "source": [
    "#scraping the Mobile\n",
    "Description = []\n",
    "\n",
    "Desc=driver.find_elements_by_xpath(\"//li[@class='rgWa7D']\")\n",
    "for i in Desc:\n",
    "    if i.text is Desc :\n",
    "        Description.append(\"--\") \n",
    "    else:\n",
    "        Description.append(i.text)\n",
    "    \n",
    "Description[0:10]"
   ]
  },
  {
   "cell_type": "code",
   "execution_count": null,
   "metadata": {},
   "outputs": [],
   "source": []
  },
  {
   "cell_type": "code",
   "execution_count": 248,
   "metadata": {},
   "outputs": [
    {
     "data": {
      "text/html": [
       "<div>\n",
       "<style scoped>\n",
       "    .dataframe tbody tr th:only-of-type {\n",
       "        vertical-align: middle;\n",
       "    }\n",
       "\n",
       "    .dataframe tbody tr th {\n",
       "        vertical-align: top;\n",
       "    }\n",
       "\n",
       "    .dataframe thead th {\n",
       "        text-align: right;\n",
       "    }\n",
       "</style>\n",
       "<table border=\"1\" class=\"dataframe\">\n",
       "  <thead>\n",
       "    <tr style=\"text-align: right;\">\n",
       "      <th></th>\n",
       "      <th>Mobile Name</th>\n",
       "      <th>Descrition</th>\n",
       "    </tr>\n",
       "  </thead>\n",
       "  <tbody>\n",
       "    <tr>\n",
       "      <th>0</th>\n",
       "      <td>[SAMSUNG, Galaxy, Fold, 2, (Mystic, Bronze,, 2...</td>\n",
       "      <td>12 GB RAM | 256 GB ROM</td>\n",
       "    </tr>\n",
       "  </tbody>\n",
       "</table>\n",
       "</div>"
      ],
      "text/plain": [
       "                                         Mobile Name              Descrition\n",
       "0  [SAMSUNG, Galaxy, Fold, 2, (Mystic, Bronze,, 2...  12 GB RAM | 256 GB ROM"
      ]
     },
     "execution_count": 248,
     "metadata": {},
     "output_type": "execute_result"
    }
   ],
   "source": [
    "  # creating the dataframe from the scraped data and taking only first 10 jobs\n",
    "df=pd.DataFrame({\"Mobile Name\":Mob[0:1],\"Descrition\":Description[0:1]})\n",
    "df.head()"
   ]
  },
  {
   "cell_type": "code",
   "execution_count": 249,
   "metadata": {},
   "outputs": [],
   "source": [
    "df.to_csv('FlipkartData.csv', index = False)"
   ]
  },
  {
   "cell_type": "code",
   "execution_count": 250,
   "metadata": {},
   "outputs": [],
   "source": [
    "driver = webdriver.Chrome(r\"E://Datatrained//chromedriver.exe\")\n",
    "driver.get(\"https://www.google.co.in/maps/@18.574378,73.9712484,15z\")"
   ]
  },
  {
   "cell_type": "code",
   "execution_count": 251,
   "metadata": {},
   "outputs": [],
   "source": [
    "search_job = driver.find_element_by_xpath(\"//input[@autofocus='autofocus']\")\n",
    "search_job.click()\n",
    "search_job.send_keys('Pune')\n",
    "\n"
   ]
  },
  {
   "cell_type": "code",
   "execution_count": 252,
   "metadata": {},
   "outputs": [],
   "source": [
    "search_btn = driver.find_element_by_xpath(\"//div[@class='searchbox-searchbutton-container']\")\n",
    "search_btn.click()\n",
    "\n"
   ]
  },
  {
   "cell_type": "code",
   "execution_count": 272,
   "metadata": {},
   "outputs": [],
   "source": [
    "driver = webdriver.Chrome(r\"E://Datatrained//chromedriver.exe\")\n",
    "driver.get(\"https://www.digit.in/laptops/\")\n"
   ]
  },
  {
   "cell_type": "code",
   "execution_count": 273,
   "metadata": {},
   "outputs": [],
   "source": [
    "\n",
    "search_btn = driver.find_element_by_xpath(\"//a[@href='https://www.digit.in/top-products/best-gaming-laptops-40.html']\")\n",
    "search_btn.click()\n"
   ]
  },
  {
   "cell_type": "code",
   "execution_count": 274,
   "metadata": {},
   "outputs": [
    {
     "data": {
      "text/plain": [
       "['PRODUCT NAME SELLER PRICE\\nMSI GT76 TITAN DT 9SG N/A ₹379990\\nAlienware 17 Area-51m amazon ₹422000\\nHP Omen 15 2020 Tatacliq ₹117790\\nAsus Zephyrus G14 amazon ₹164990\\nLenovo Legion Y540 flipkart ₹79990\\nAsus ROG Zephyrus G GA502 flipkart ₹79990\\nAsus ROG Zephyrus S GX531 flipkart ₹239990\\nMSI GT83VR 7RE Titan SLI N/A ₹349990\\nASUS ROG ZEPHYRUS DUO 15 amazon ₹244990\\nDell G3 amazon ₹61990']"
      ]
     },
     "execution_count": 274,
     "metadata": {},
     "output_type": "execute_result"
    }
   ],
   "source": [
    "\n",
    "\n",
    "#scraping the Mobile\n",
    "Description = []\n",
    "\n",
    "Desc=driver.find_elements_by_xpath(\"//table[@id='summtable']\")\n",
    "for i in Desc:\n",
    "    if i.text is Desc :\n",
    "        Description.append(\"--\") \n",
    "    else:\n",
    "        Description.append(i.text)\n",
    "        \n",
    "Description"
   ]
  },
  {
   "cell_type": "code",
   "execution_count": null,
   "metadata": {},
   "outputs": [],
   "source": []
  },
  {
   "cell_type": "code",
   "execution_count": null,
   "metadata": {},
   "outputs": [],
   "source": []
  }
 ],
 "metadata": {
  "kernelspec": {
   "display_name": "Python 3",
   "language": "python",
   "name": "python3"
  },
  "language_info": {
   "codemirror_mode": {
    "name": "ipython",
    "version": 3
   },
   "file_extension": ".py",
   "mimetype": "text/x-python",
   "name": "python",
   "nbconvert_exporter": "python",
   "pygments_lexer": "ipython3",
   "version": "3.7.3"
  }
 },
 "nbformat": 4,
 "nbformat_minor": 2
}
